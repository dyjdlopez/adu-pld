{
  "nbformat": 4,
  "nbformat_minor": 0,
  "metadata": {
    "colab": {
      "name": "pld-02.ipynb",
      "provenance": [],
      "authorship_tag": "ABX9TyMdN7sR67CRqSZ76Ce+Ozgt",
      "include_colab_link": true
    },
    "kernelspec": {
      "name": "python3",
      "display_name": "Python 3"
    },
    "language_info": {
      "name": "python"
    }
  },
  "cells": [
    {
      "cell_type": "markdown",
      "metadata": {
        "id": "view-in-github",
        "colab_type": "text"
      },
      "source": [
        "<a href=\"https://colab.research.google.com/github/dyjdlopez/adu-pld/blob/main/lab-notes/pld_02.ipynb\" target=\"_parent\"><img src=\"https://colab.research.google.com/assets/colab-badge.svg\" alt=\"Open In Colab\"/></a>"
      ]
    },
    {
      "cell_type": "markdown",
      "metadata": {
        "id": "oVUDR_YprL3d"
      },
      "source": [
        "# Data Types\n",
        "---\n",
        "$_{\\text{© Project Alexandria | 2021 | Programming Logic and Design}}$"
      ]
    },
    {
      "cell_type": "code",
      "metadata": {
        "id": "TnBFFgb1vDCl"
      },
      "source": [
        "#@title Licensed under the Apache License, Version 2.0 (the \"License\");\n",
        "# you may not use this file except in compliance with the License.\n",
        "# You may obtain a copy of the License at\n",
        "#\n",
        "# https://www.apache.org/licenses/LICENSE-2.0\n",
        "#\n",
        "# Unless required by applicable law or agreed to in writing, software\n",
        "# distributed under the License is distributed on an \"AS IS\" BASIS,\n",
        "# WITHOUT WARRANTIES OR CONDITIONS OF ANY KIND, either express or implied.\n",
        "# See the License for the specific language governing permissions and\n",
        "# limitations under the License."
      ],
      "execution_count": null,
      "outputs": []
    },
    {
      "cell_type": "markdown",
      "metadata": {
        "id": "QACJ-N6pu1x9"
      },
      "source": [
        "# Part 1: Just Python again\n",
        "\n",
        "Let's just re-introduce the programming language that we are going to use for this course, Python. Python is a general programming language — meaning it can be used for many things. You cna use Python for a number of things like developing websites 🌐, mobile apps 📱, chatbots 💬, robotic process 🤖, artificial intelligence 🧠, complex scientific simulations 🦠, chemical reductions 🧪, and even astronomical computations 🌌!\n",
        "\n",
        "![image](https://external-content.duckduckgo.com/iu/?u=http%3A%2F%2Flogos-download.com%2Fwp-content%2Fuploads%2F2016%2F10%2FPython_logo_wordmark.png&f=1&nofb=1)\n",
        "\n",
        "Another great thing about Python is that it's free and open-source. You don't have to pay for anything if you wish to code or develop systems using Python and we say it is open-source you can freely copy and use Python code lying around online and people all arounf the world can contribute in make Python better! Since the development of Python is contributed by anyone from beginners to experts, it has a great community that make a collection manuals and use cases called **documentation** wherein you can get to understand about how the code works and how you can make your code better. You can check the Python documentation [here](https://www.python.org/doc/)."
      ]
    },
    {
      "cell_type": "markdown",
      "metadata": {
        "id": "59LqEVmIrrFt"
      },
      "source": [
        ""
      ]
    },
    {
      "cell_type": "markdown",
      "metadata": {
        "id": "tjpdxaEP3pmB"
      },
      "source": [
        "# Part 2: Data\n",
        "\n",
        "Data is vital in running any computer program. Data is what is expected to be an input and an output. But we talk about data, we are pertaining to digital data. These are data that reside in your computer, where it has already converted it into electronic digital signals through its circuitry. In any programming language, we make use of data so we can make logic flow.\n",
        "\n",
        "\n",
        "We can categorize data in a program on what they are and how could they be used. We specifically call this category of data as **data types**. Here are some fundamental types in any programming language:\n",
        "* Text Types\n",
        "* Numeric Types\n",
        "* Boolean Types\n",
        "* Sequence Types\n",
        "\n",
        "We will further discuss these types and the specific data types under them in Python.\n",
        "\n",
        "\n"
      ]
    },
    {
      "cell_type": "markdown",
      "metadata": {
        "id": "BZUmHc6Q6eVx"
      },
      "source": [
        "## 2.1 the `type()` function\n",
        "The type function is one of the fundamental function in Python programming. When we talk of functions these are commands pre-made by other developers to do something. You might notice that the `type()` function has the word part and also a pair of parentheses after. The name part talks about the identity while the parentheses is where you can place inputs or what we call **parameters**. It takes in that parameter, processes it somewhere inside it and spits out a response in which tells us what is the data type of a parameter we fed it.\n",
        "\n",
        "The `type()` function is a built-in function meaning it was pre-made by the Python developers so you can use it freely and easily in any Python-ready machine."
      ]
    },
    {
      "cell_type": "markdown",
      "metadata": {
        "id": "pS0eDmK0555J"
      },
      "source": [
        "## 2.2 Text Types\n",
        "\n",
        "Text types include the String (`str`) data type. This data type is representative to textual data such as letters, phrases, and sentences. In Python 3.8 it already started to support emojis. String data are declared with the word or letter you want wrapped in quotation marks.  "
      ]
    },
    {
      "cell_type": "code",
      "metadata": {
        "id": "d6mSD7dc4vsC"
      },
      "source": [
        "## Let's try to make a string for the word \"Code\"\n",
        "\"Code\"\n",
        "## Now try to run this code cell.\n",
        "## You might notice an output below displaying 'Code'"
      ],
      "execution_count": null,
      "outputs": []
    },
    {
      "cell_type": "code",
      "metadata": {
        "id": "AH7JtLfw7pKB"
      },
      "source": [
        "## Now let's try to check the data type of the string you just made\n",
        "type(\"Code\")"
      ],
      "execution_count": null,
      "outputs": []
    },
    {
      "cell_type": "code",
      "metadata": {
        "id": "I2VvFGZ38kDh"
      },
      "source": [
        "## Now let's try to do some letters\n",
        "'A'"
      ],
      "execution_count": null,
      "outputs": []
    },
    {
      "cell_type": "code",
      "metadata": {
        "id": "OK0QGrE47xiK"
      },
      "source": [
        "## Don't worry on which quotation mark to use. Whether you use single or double\n",
        "## quotes they will yield strings. However this is not true in other programming\n",
        "## languages such as C and C++ where single quotes signify a different data type\n",
        "type('A')"
      ],
      "execution_count": null,
      "outputs": []
    },
    {
      "cell_type": "code",
      "metadata": {
        "id": "mt7DMCDj77mS"
      },
      "source": [
        "## How about some emojis?\n",
        "\"\\U0001F600\"\n",
        "## You can encode emojis in Python using unicodes. A full list for the unicodes\n",
        "## of the emjois will be linked at the end of this notebook. Just don't forget \n",
        "## to replace the \"+\" sign with \"000\"."
      ],
      "execution_count": null,
      "outputs": []
    },
    {
      "cell_type": "code",
      "metadata": {
        "id": "84_wHzcc8oZZ"
      },
      "source": [
        "type(\"\\U0001F600\")"
      ],
      "execution_count": null,
      "outputs": []
    },
    {
      "cell_type": "markdown",
      "metadata": {
        "id": "sGWsBXZm9sYZ"
      },
      "source": [
        "## 2.3 Numeric Types\n",
        "Numeric Types represent numbers. They can be either Integers (`int`) or Floats (`float`). There more numeric types in Python that consitute to the whole Data Science and AI aspect of programming but `int` and `float` are the fundamental data types that serve as the building blocks of the most advanced systems that uses Python."
      ]
    },
    {
      "cell_type": "markdown",
      "metadata": {
        "id": "YIC8-ch7AHBh"
      },
      "source": [
        "### *Integers*\n",
        "\n",
        "Integers are numeric data types that hold positive or negative whole numbers. If you would recall your math courses the definition of an integer there holds true for a Python integer. We declare an integer by just plainly typing in a number."
      ]
    },
    {
      "cell_type": "code",
      "metadata": {
        "id": "HVsQy_loBYY6"
      },
      "source": [
        "## Encoding a positive integer\n",
        "100"
      ],
      "execution_count": null,
      "outputs": []
    },
    {
      "cell_type": "code",
      "metadata": {
        "id": "KiR6KZwJBmJ4"
      },
      "source": [
        "type(100)"
      ],
      "execution_count": null,
      "outputs": []
    },
    {
      "cell_type": "code",
      "metadata": {
        "id": "cdQ5ZYSoBdfg"
      },
      "source": [
        "### Encoding a negative integer\n",
        "-230"
      ],
      "execution_count": null,
      "outputs": []
    },
    {
      "cell_type": "code",
      "metadata": {
        "id": "1PHjmx2HBpcJ"
      },
      "source": [
        "type(-230)"
      ],
      "execution_count": null,
      "outputs": []
    },
    {
      "cell_type": "code",
      "metadata": {
        "id": "PjGC3SGvBhl4"
      },
      "source": [
        "### Encoding zero\n",
        "0"
      ],
      "execution_count": null,
      "outputs": []
    },
    {
      "cell_type": "code",
      "metadata": {
        "id": "LewIunOlBq1J"
      },
      "source": [
        "type(0)"
      ],
      "execution_count": null,
      "outputs": []
    },
    {
      "cell_type": "markdown",
      "metadata": {
        "id": "q-rVDd-mAy2Z"
      },
      "source": [
        "### *Floats*\n",
        "Floats are identical to decimals in regular math language. It got its name because of the dot within the numbers called \"floating points\" or decimal points. Floats constitute to the set of rational numbers if you would like to review some number theory. These data types can be declared just like integers "
      ]
    },
    {
      "cell_type": "code",
      "metadata": {
        "id": "UA1msQnAAGay"
      },
      "source": [
        "## Just some normal decimals\n",
        "0.5"
      ],
      "execution_count": null,
      "outputs": []
    },
    {
      "cell_type": "code",
      "metadata": {
        "id": "JpSmbmW_FXks"
      },
      "source": [
        "type(0.5)"
      ],
      "execution_count": null,
      "outputs": []
    },
    {
      "cell_type": "code",
      "metadata": {
        "id": "V8d_1ZGAFFPJ"
      },
      "source": [
        "## There's also negative floats\n",
        "-1.87001"
      ],
      "execution_count": null,
      "outputs": []
    },
    {
      "cell_type": "code",
      "metadata": {
        "id": "HGkKloqUFYwD"
      },
      "source": [
        "type(-1.87001)"
      ],
      "execution_count": null,
      "outputs": []
    },
    {
      "cell_type": "code",
      "metadata": {
        "colab": {
          "base_uri": "https://localhost:8080/"
        },
        "id": "czOrv072HphQ",
        "outputId": "db21350a-a9a8-48c7-b8df-cacc6a763b2c"
      },
      "source": [
        "## Even bigger numbers!\n",
        "1.2e6"
      ],
      "execution_count": 17,
      "outputs": [
        {
          "output_type": "execute_result",
          "data": {
            "text/plain": [
              "1200000.0"
            ]
          },
          "metadata": {},
          "execution_count": 17
        }
      ]
    },
    {
      "cell_type": "code",
      "metadata": {
        "id": "nsBV_9fdHwpZ"
      },
      "source": [
        "type(1.2e6)"
      ],
      "execution_count": null,
      "outputs": []
    },
    {
      "cell_type": "code",
      "metadata": {
        "id": "MZvCVIcTFOZo"
      },
      "source": [
        "## And there's zero again\n",
        "0.0\n",
        "type(0.0)"
      ],
      "execution_count": null,
      "outputs": []
    },
    {
      "cell_type": "code",
      "metadata": {
        "id": "QV88RFZGFQ_a"
      },
      "source": [
        "## Integers as floats\n",
        "100.0"
      ],
      "execution_count": null,
      "outputs": []
    },
    {
      "cell_type": "code",
      "metadata": {
        "id": "M1BB7GYqFe6q"
      },
      "source": [
        "type(100.0)"
      ],
      "execution_count": null,
      "outputs": []
    },
    {
      "cell_type": "markdown",
      "metadata": {
        "id": "pCSJWFzTGc8x"
      },
      "source": [
        "### Other Numbers\n",
        "There are also other ways to encode numbers in Python. If you are familiar with other bases of numbers such as binary, octal, and hexadecimal they can be declared in a special way."
      ]
    },
    {
      "cell_type": "code",
      "metadata": {
        "colab": {
          "base_uri": "https://localhost:8080/"
        },
        "id": "dKSRei65G3ch",
        "outputId": "10fe5d4c-3330-4176-89a3-d97380571868"
      },
      "source": [
        "## To declare you can put \"0b\" at the start of the binary sequence\n",
        "0b100"
      ],
      "execution_count": 14,
      "outputs": [
        {
          "output_type": "execute_result",
          "data": {
            "text/plain": [
              "4"
            ]
          },
          "metadata": {},
          "execution_count": 14
        }
      ]
    },
    {
      "cell_type": "code",
      "metadata": {
        "colab": {
          "base_uri": "https://localhost:8080/"
        },
        "id": "qAhT05y4HQKZ",
        "outputId": "3348dd07-6ccb-4063-e271-1532d5643e89"
      },
      "source": [
        "## For an octal number put \"0o\" at the beginning\n",
        "0o100"
      ],
      "execution_count": 15,
      "outputs": [
        {
          "output_type": "execute_result",
          "data": {
            "text/plain": [
              "64"
            ]
          },
          "metadata": {},
          "execution_count": 15
        }
      ]
    },
    {
      "cell_type": "code",
      "metadata": {
        "colab": {
          "base_uri": "https://localhost:8080/"
        },
        "id": "5FD91oMlHcGI",
        "outputId": "af66d412-356e-417d-9241-ba41650d902f"
      },
      "source": [
        "## For a hexadecimal number put \"0x\" at the beginning\n",
        "0x100"
      ],
      "execution_count": 16,
      "outputs": [
        {
          "output_type": "execute_result",
          "data": {
            "text/plain": [
              "256"
            ]
          },
          "metadata": {},
          "execution_count": 16
        }
      ]
    },
    {
      "cell_type": "markdown",
      "metadata": {
        "id": "eG9g6CyaH2gR"
      },
      "source": [
        "In advanced cases, there is also a complex numeric data type. If you are not familiar with the it is fine!"
      ]
    },
    {
      "cell_type": "code",
      "metadata": {
        "colab": {
          "base_uri": "https://localhost:8080/"
        },
        "id": "xo44bbnBHln5",
        "outputId": "f9ab6325-e05f-4826-aa6d-0c2e5aebac42"
      },
      "source": [
        "17.8j"
      ],
      "execution_count": 19,
      "outputs": [
        {
          "output_type": "execute_result",
          "data": {
            "text/plain": [
              "17.8j"
            ]
          },
          "metadata": {},
          "execution_count": 19
        }
      ]
    },
    {
      "cell_type": "code",
      "metadata": {
        "colab": {
          "base_uri": "https://localhost:8080/"
        },
        "id": "yGbR7tLmIE8g",
        "outputId": "c1ed8546-76bf-4297-fb21-97ba5c23a64d"
      },
      "source": [
        "type(17.8j)"
      ],
      "execution_count": 20,
      "outputs": [
        {
          "output_type": "execute_result",
          "data": {
            "text/plain": [
              "complex"
            ]
          },
          "metadata": {},
          "execution_count": 20
        }
      ]
    },
    {
      "cell_type": "markdown",
      "metadata": {
        "id": "bw5gTyb492A5"
      },
      "source": [
        "## 2.4 Boolean Types\n",
        "Boolean values are named after George Bool. Boolean data types (`bool`) are values that are patterened after logic truth values. Truth values can only have two values: `True` or `False`. We will frequently use these data types in controlling and monitoring the logic for a program. We will see more of them in the **Conditions** notebook.  "
      ]
    },
    {
      "cell_type": "code",
      "metadata": {
        "id": "ykO-kQIkIhMo"
      },
      "source": [
        "## Let's set the truth\n",
        "True"
      ],
      "execution_count": null,
      "outputs": []
    },
    {
      "cell_type": "code",
      "metadata": {
        "id": "FzsqM30qImKw"
      },
      "source": [
        "type(True)"
      ],
      "execution_count": null,
      "outputs": []
    },
    {
      "cell_type": "code",
      "metadata": {
        "id": "ewonhaXMIokD"
      },
      "source": [
        "## And there is falsity\n",
        "False"
      ],
      "execution_count": null,
      "outputs": []
    },
    {
      "cell_type": "code",
      "metadata": {
        "id": "2_5B8XrYI1PJ"
      },
      "source": [
        "type(False)"
      ],
      "execution_count": null,
      "outputs": []
    },
    {
      "cell_type": "markdown",
      "metadata": {
        "id": "XWkFO1-V98WZ"
      },
      "source": [
        "## 2.5 Other Types\n",
        "Python has even more data types that you can imagine. However, these might be overbearing for a beginner so will stop here for the meantime. Types such as the Sequence Types will be further discussed in our **Collections** notebook. Just take note that there are no definite data types in Python since they are evolving through time and as technology progresses. Some types could be as generic as `int` but there are specific data types link `Tensors` and `DataFrames` that are mostly used in a specific application of Python only."
      ]
    },
    {
      "cell_type": "markdown",
      "metadata": {
        "id": "uRB-lIMfKEH7"
      },
      "source": [
        "# Summary\n",
        "In this notebook we discussed the benefits of Python and the use of data types. There are numerous data types that can be used in Python, they can be:\n",
        "* Text\n",
        "* Numeric\n",
        "* Boolean\n",
        "* Sequences\n",
        "\n",
        "These data types dictate the behavior and the storage type of the data in the program. In the next notebook, we will be discussing about how can we manage to store these values efficiently. "
      ]
    },
    {
      "cell_type": "markdown",
      "metadata": {
        "id": "hx0KXoMFKnxp"
      },
      "source": [
        "# Additional Readings\n",
        "1. [The Python Beginner's Guide](https://wiki.python.org/moin/BeginnersGuide)\n",
        "2. [Python Data Types](https://www.w3schools.com/python/python_datatypes.asp)\n",
        "3. [Emoji Unicodes](https://unicode.org/emoji/charts/full-emoji-list.html)"
      ]
    }
  ]
}