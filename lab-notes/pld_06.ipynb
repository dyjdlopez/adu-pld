{
  "nbformat": 4,
  "nbformat_minor": 0,
  "metadata": {
    "colab": {
      "name": "pld-06.ipynb",
      "provenance": [],
      "authorship_tag": "ABX9TyO6iN2r+5zuC6Y/qqaJyyDc",
      "include_colab_link": true
    },
    "kernelspec": {
      "name": "python3",
      "display_name": "Python 3"
    },
    "language_info": {
      "name": "python"
    }
  },
  "cells": [
    {
      "cell_type": "markdown",
      "metadata": {
        "id": "view-in-github",
        "colab_type": "text"
      },
      "source": [
        "<a href=\"https://colab.research.google.com/github/dyjdlopez/adu-pld/blob/main/lab-notes/pld_06.ipynb\" target=\"_parent\"><img src=\"https://colab.research.google.com/assets/colab-badge.svg\" alt=\"Open In Colab\"/></a>"
      ]
    },
    {
      "cell_type": "markdown",
      "source": [
        "# Conditions\n",
        "---\n",
        "$_{\\text{© Project Alexandria | 2021 | Programming Logic and Design}}$"
      ],
      "metadata": {
        "id": "sgmve4rF5pUS"
      }
    },
    {
      "cell_type": "code",
      "source": [
        "#@title Licensed under the Apache License, Version 2.0 (the \"License\");\n",
        "# you may not use this file except in compliance with the License.\n",
        "# You may obtain a copy of the License at\n",
        "#\n",
        "# https://www.apache.org/licenses/LICENSE-2.0\n",
        "#\n",
        "# Unless required by applicable law or agreed to in writing, software\n",
        "# distributed under the License is distributed on an \"AS IS\" BASIS,\n",
        "# WITHOUT WARRANTIES OR CONDITIONS OF ANY KIND, either express or implied.\n",
        "# See the License for the specific language governing permissions and\n",
        "# limitations under the License."
      ],
      "metadata": {
        "id": "gjKrYbuE530y"
      },
      "execution_count": null,
      "outputs": []
    },
    {
      "cell_type": "code",
      "execution_count": null,
      "metadata": {
        "id": "7ID6oKS35lF0"
      },
      "outputs": [],
      "source": [
        ""
      ]
    },
    {
      "cell_type": "markdown",
      "source": [
        "# Part 1: Basic Conditions"
      ],
      "metadata": {
        "id": "Gc2C8K8o55w5"
      }
    },
    {
      "cell_type": "markdown",
      "source": [
        "## 1.1 If..then"
      ],
      "metadata": {
        "id": "8E8jHtwg6OXi"
      }
    },
    {
      "cell_type": "markdown",
      "source": [
        "## 1.2 If.. else"
      ],
      "metadata": {
        "id": "m8tih46j6RUC"
      }
    },
    {
      "cell_type": "markdown",
      "source": [
        "# Part 2: Compoud Conditions"
      ],
      "metadata": {
        "id": "GlxnglEE6CZS"
      }
    },
    {
      "cell_type": "markdown",
      "source": [
        "## 2.1 The elif clause"
      ],
      "metadata": {
        "id": "FFFxyFCk6Uer"
      }
    },
    {
      "cell_type": "markdown",
      "source": [
        "## 2.2 Nested conditions"
      ],
      "metadata": {
        "id": "lxKD2fD06Y47"
      }
    },
    {
      "cell_type": "markdown",
      "source": [
        "# Summary"
      ],
      "metadata": {
        "id": "C-hfK0DK6i4q"
      }
    },
    {
      "cell_type": "markdown",
      "source": [
        "# Additional Readings"
      ],
      "metadata": {
        "id": "zMmnjjiQ6kvy"
      }
    }
  ]
}