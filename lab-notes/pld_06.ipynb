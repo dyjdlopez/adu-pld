{
  "nbformat": 4,
  "nbformat_minor": 0,
  "metadata": {
    "colab": {
      "name": "pld-06.ipynb",
      "provenance": [],
      "authorship_tag": "ABX9TyMngFNjYh+eHMXD32vvnIKd",
      "include_colab_link": true
    },
    "kernelspec": {
      "name": "python3",
      "display_name": "Python 3"
    },
    "language_info": {
      "name": "python"
    }
  },
  "cells": [
    {
      "cell_type": "markdown",
      "metadata": {
        "id": "view-in-github",
        "colab_type": "text"
      },
      "source": [
        "<a href=\"https://colab.research.google.com/github/dyjdlopez/adu-pld/blob/main/lab-notes/pld_06.ipynb\" target=\"_parent\"><img src=\"https://colab.research.google.com/assets/colab-badge.svg\" alt=\"Open In Colab\"/></a>"
      ]
    },
    {
      "cell_type": "markdown",
      "source": [
        "# Conditions\n",
        "---\n",
        "$_{\\text{© Project Alexandria | 2021 | Programming Logic and Design}}$"
      ],
      "metadata": {
        "id": "sgmve4rF5pUS"
      }
    },
    {
      "cell_type": "code",
      "source": [
        "#@title Licensed under the Apache License, Version 2.0 (the \"License\");\n",
        "# you may not use this file except in compliance with the License.\n",
        "# You may obtain a copy of the License at\n",
        "#\n",
        "# https://www.apache.org/licenses/LICENSE-2.0\n",
        "#\n",
        "# Unless required by applicable law or agreed to in writing, software\n",
        "# distributed under the License is distributed on an \"AS IS\" BASIS,\n",
        "# WITHOUT WARRANTIES OR CONDITIONS OF ANY KIND, either express or implied.\n",
        "# See the License for the specific language governing permissions and\n",
        "# limitations under the License."
      ],
      "metadata": {
        "id": "gjKrYbuE530y"
      },
      "execution_count": null,
      "outputs": []
    },
    {
      "cell_type": "markdown",
      "source": [
        "# Part 1: Basic Conditions"
      ],
      "metadata": {
        "id": "Gc2C8K8o55w5"
      }
    },
    {
      "cell_type": "code",
      "source": [
        "acts = 65\n",
        "quizzes = 67\n",
        "exam = 70\n",
        "\n",
        "grade = 0.3*acts + 0.3*quizzes + 0.4*exam\n",
        "print(grade)  "
      ],
      "metadata": {
        "id": "Qccd5ZO1pRKn",
        "outputId": "5def4ca4-2388-4757-f9f1-c79794ff8c3b",
        "colab": {
          "base_uri": "https://localhost:8080/"
        }
      },
      "execution_count": 9,
      "outputs": [
        {
          "output_type": "stream",
          "name": "stdout",
          "text": [
            "67.6\n"
          ]
        }
      ]
    },
    {
      "cell_type": "markdown",
      "source": [
        "## 1.1 If..then"
      ],
      "metadata": {
        "id": "8E8jHtwg6OXi"
      }
    },
    {
      "cell_type": "code",
      "source": [
        "passing = 70\n",
        "is_pass = grade >= 70\n",
        "print(is_pass)"
      ],
      "metadata": {
        "id": "ANlqufmmqTPw",
        "outputId": "84a5e686-313b-48e6-a55c-5d4f6ce266be",
        "colab": {
          "base_uri": "https://localhost:8080/"
        }
      },
      "execution_count": 3,
      "outputs": [
        {
          "output_type": "stream",
          "name": "stdout",
          "text": [
            "False\n"
          ]
        }
      ]
    },
    {
      "cell_type": "code",
      "source": [
        "if is_pass:\n",
        "  print(\"Congratulations! You Passed!\")"
      ],
      "metadata": {
        "id": "wel_PU1LqdlX"
      },
      "execution_count": 4,
      "outputs": []
    },
    {
      "cell_type": "markdown",
      "source": [
        "## 1.2 If.. else"
      ],
      "metadata": {
        "id": "m8tih46j6RUC"
      }
    },
    {
      "cell_type": "code",
      "source": [
        "if is_pass:\n",
        "  print(\"Congratulations! You Passed!\")\n",
        "else:\n",
        "  print(\"Sorry you did not pass... Please try again\")"
      ],
      "metadata": {
        "id": "iKCZCFKzqkt3",
        "outputId": "363a024c-3902-4a01-b690-b2f0f7f5d148",
        "colab": {
          "base_uri": "https://localhost:8080/"
        }
      },
      "execution_count": 5,
      "outputs": [
        {
          "output_type": "stream",
          "name": "stdout",
          "text": [
            "Sorry you did not pass... Please try again\n"
          ]
        }
      ]
    },
    {
      "cell_type": "markdown",
      "source": [
        "# Part 2: Compoud Conditions"
      ],
      "metadata": {
        "id": "GlxnglEE6CZS"
      }
    },
    {
      "cell_type": "markdown",
      "source": [
        "## 2.1 The elif clause"
      ],
      "metadata": {
        "id": "FFFxyFCk6Uer"
      }
    },
    {
      "cell_type": "code",
      "source": [
        "if grade >= 70:\n",
        "  print(\"Student Passed\")\n",
        "elif grade < 70 and grade >= 65:\n",
        "  print(\"Can take a Remedial Exam\")\n",
        "else:\n",
        "  print(\"Student failed\") "
      ],
      "metadata": {
        "id": "J6yKAhqbqy9_"
      },
      "execution_count": null,
      "outputs": []
    },
    {
      "cell_type": "code",
      "source": [
        "print(\"The GPA equivalent of your grade is: \")\n",
        "if grade > 90:\n",
        "  print(\"A\")\n",
        "elif grade <= 93 and grade >= 90:\n",
        "  print(\"A-\")\n",
        "elif grade < 90 and grade >= 87:\n",
        "  print(\"B+\")\n",
        "elif grade < 87 and grade >= 83:\n",
        "  print(\"B\")\n",
        "elif grade < 83 and grade >=80:\n",
        "  print(\"B-\")\n",
        "elif grade < 80 and grade >= 77:\n",
        "  print(\"C+\")\n",
        "elif grade < 77 and grade >= 73:\n",
        "  print(\"C\")\n",
        "elif grade < 73 and grade >= 70:\n",
        "  print(\"C-\")\n",
        "elif grade < 70 and grade >= 67:\n",
        "  print(\"D+\")\n",
        "elif grade < 67 and grade >= 63:\n",
        "  print(\"D\")\n",
        "elif grade < 63 and grade >= 60:\n",
        "  print(\"D-\")\n",
        "else:\n",
        "  print(\"F\") "
      ],
      "metadata": {
        "id": "iZks5d2nrhvP",
        "outputId": "4e905bba-b64f-4d60-d437-f9238f789bdd",
        "colab": {
          "base_uri": "https://localhost:8080/"
        }
      },
      "execution_count": 10,
      "outputs": [
        {
          "output_type": "stream",
          "name": "stdout",
          "text": [
            "The GPA equivalent of your grade is: \n",
            "D+\n"
          ]
        }
      ]
    },
    {
      "cell_type": "markdown",
      "source": [
        "## 2.2 Nested conditions"
      ],
      "metadata": {
        "id": "lxKD2fD06Y47"
      }
    },
    {
      "cell_type": "code",
      "source": [
        "if grade >= 70:\n",
        "  print(\"Student Passed\")\n",
        "  if grade >= 88:\n",
        "    print(\"Student is qualified for exemption\")\n",
        "elif grade < 70 and grade >= 65:\n",
        "  print(\"Can take a Remedial Exam\")\n",
        "else:\n",
        "  print(\"Student failed\") "
      ],
      "metadata": {
        "id": "W6uZsLgxt7hw"
      },
      "execution_count": null,
      "outputs": []
    },
    {
      "cell_type": "code",
      "source": [
        "if grade >= 70:\n",
        "  if grade > 90:\n",
        "    gpa = \"A\"\n",
        "  elif grade <= 93 and grade >= 90:\n",
        "    gpa = \"A-\"\n",
        "  elif grade < 90 and grade >= 87:\n",
        "    gpa = \"B+\"\n",
        "  elif grade < 87 and grade >= 83:\n",
        "    gpa = \"B\"\n",
        "  elif grade < 83 and grade >=80:\n",
        "    gpa = \"B-\"\n",
        "  elif grade < 80 and grade >= 77:\n",
        "    gpa = \"C+\"\n",
        "  elif grade < 77 and grade >= 73:\n",
        "    gpa = \"C\"\n",
        "  elif grade < 73 and grade >= 70:\n",
        "    gpa = \"C-\"\n",
        "  print(\"Student Passed with GPA:\", gpa)\n",
        "elif grade < 70 and grade >= 65:\n",
        "  if grade < 70 and grade >= 67:\n",
        "    gpa = \"D+\"\n",
        "  elif grade < 67 and grade >= 63:\n",
        "    gpa = \"D\"  \n",
        "  print(\"Can take a Remedial Exam since GPA is:\", gpa)\n",
        "else:\n",
        "  if grade < 67 and grade >= 63:\n",
        "    print(\"D\")\n",
        "  elif grade < 63 and grade >= 60:\n",
        "    print(\"D-\")\n",
        "  else:\n",
        "    print(\"F\") \n",
        "  print(\"Student failed with GPA:\", gpa) "
      ],
      "metadata": {
        "id": "98TFRqXxs7MJ",
        "outputId": "6018f9e4-0219-4253-f961-5ca26183152f",
        "colab": {
          "base_uri": "https://localhost:8080/"
        }
      },
      "execution_count": 12,
      "outputs": [
        {
          "output_type": "stream",
          "name": "stdout",
          "text": [
            "Can take a Remedial Exam since GPA is: D+\n"
          ]
        }
      ]
    },
    {
      "cell_type": "markdown",
      "source": [
        "# Summary"
      ],
      "metadata": {
        "id": "C-hfK0DK6i4q"
      }
    },
    {
      "cell_type": "markdown",
      "source": [
        "# Additional Readings"
      ],
      "metadata": {
        "id": "zMmnjjiQ6kvy"
      }
    }
  ]
}