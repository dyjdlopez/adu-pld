{
  "nbformat": 4,
  "nbformat_minor": 0,
  "metadata": {
    "colab": {
      "name": "pld-06.ipynb",
      "provenance": [],
      "authorship_tag": "ABX9TyPrqE38kCYKvX/2zkG6G9cU",
      "include_colab_link": true
    },
    "kernelspec": {
      "name": "python3",
      "display_name": "Python 3"
    },
    "language_info": {
      "name": "python"
    }
  },
  "cells": [
    {
      "cell_type": "markdown",
      "metadata": {
        "id": "view-in-github",
        "colab_type": "text"
      },
      "source": [
        "<a href=\"https://colab.research.google.com/github/dyjdlopez/adu-pld/blob/main/lab-notes/pld_06.ipynb\" target=\"_parent\"><img src=\"https://colab.research.google.com/assets/colab-badge.svg\" alt=\"Open In Colab\"/></a>"
      ]
    },
    {
      "cell_type": "markdown",
      "source": [
        "# Conditions\n",
        "---\n",
        "$_{\\text{© Project Alexandria | 2021 | Programming Logic and Design}}$"
      ],
      "metadata": {
        "id": "sgmve4rF5pUS"
      }
    },
    {
      "cell_type": "code",
      "source": [
        "#@title Licensed under the Apache License, Version 2.0 (the \"License\");\n",
        "# you may not use this file except in compliance with the License.\n",
        "# You may obtain a copy of the License at\n",
        "#\n",
        "# https://www.apache.org/licenses/LICENSE-2.0\n",
        "#\n",
        "# Unless required by applicable law or agreed to in writing, software\n",
        "# distributed under the License is distributed on an \"AS IS\" BASIS,\n",
        "# WITHOUT WARRANTIES OR CONDITIONS OF ANY KIND, either express or implied.\n",
        "# See the License for the specific language governing permissions and\n",
        "# limitations under the License."
      ],
      "metadata": {
        "id": "gjKrYbuE530y"
      },
      "execution_count": null,
      "outputs": []
    },
    {
      "cell_type": "markdown",
      "source": [
        "Creating logic flow in programming is founded on condition statements. Condition statements are logical structures that performs only a process when a certain logical condition is met. Conditions rely heavily on logical operations and boolean values. In this notebook, we will go through basic and compound conditions."
      ],
      "metadata": {
        "id": "mua2tpo7tRWW"
      }
    },
    {
      "cell_type": "markdown",
      "source": [
        "# Part 1: Basic Conditions\n",
        "Conditions are mainly carried out using `if` statements. When we use the `if` statement we are checking if a truth value is ment. If it does, it performs a specifc process specified in its statement. For this notebook, we will use class grade computation as initiated in the cell below. "
      ],
      "metadata": {
        "id": "Gc2C8K8o55w5"
      }
    },
    {
      "cell_type": "code",
      "source": [
        "#@markdown The grade of students is computed using their activity score, quiz scores, and their exam score. To compute the grade we take the weighted sum of the components wherein activities to comprise of 30% of the grade, quiz scores be 30%, and exam scores are 40% of the grade.\n",
        "acts = 65\n",
        "quizzes = 67\n",
        "exam = 70\n",
        "\n",
        "grade = 0.3*acts + 0.3*quizzes + 0.4*exam\n",
        "print(grade)  "
      ],
      "metadata": {
        "id": "Qccd5ZO1pRKn",
        "outputId": "5def4ca4-2388-4757-f9f1-c79794ff8c3b",
        "colab": {
          "base_uri": "https://localhost:8080/"
        }
      },
      "execution_count": null,
      "outputs": [
        {
          "output_type": "stream",
          "name": "stdout",
          "text": [
            "67.6\n"
          ]
        }
      ]
    },
    {
      "cell_type": "markdown",
      "source": [
        "## 1.1 If..then\n",
        "The `if` statement in Python is structured using a header clause that starts with an `if` and ended by a colon. Anything tabulated after the colon is part of the code block of the condition and serves as the process to be done when the condition in header clause is met.  "
      ],
      "metadata": {
        "id": "8E8jHtwg6OXi"
      }
    },
    {
      "cell_type": "code",
      "source": [
        "#@markdown We first make a logical computation called thresholding. We do thresholding in this part to determine whether a student's grade is above or equal to the threshold (70%). Here we used a greater than or equal comparator to determine the boolean value for the passing status of the student.\n",
        "passing = 70\n",
        "is_pass = grade >= passing\n",
        "print(is_pass)"
      ],
      "metadata": {
        "id": "ANlqufmmqTPw",
        "outputId": "84a5e686-313b-48e6-a55c-5d4f6ce266be",
        "colab": {
          "base_uri": "https://localhost:8080/"
        }
      },
      "execution_count": null,
      "outputs": [
        {
          "output_type": "stream",
          "name": "stdout",
          "text": [
            "False\n"
          ]
        }
      ]
    },
    {
      "cell_type": "code",
      "source": [
        "if is_pass: ## header clause / the if statement\n",
        "  print(\"Congratulations! You Passed!\") ## the code block, the process to be done"
      ],
      "metadata": {
        "id": "wel_PU1LqdlX"
      },
      "execution_count": null,
      "outputs": []
    },
    {
      "cell_type": "markdown",
      "source": [
        "## 1.2 If.. else\n",
        "To extend the use of `if` statements, we would add a consequence for the complement of the condition. The complement of a condition is simply anything that does not fall under the range or the logic of the `if` clause. We call this the `else` statement or clause."
      ],
      "metadata": {
        "id": "m8tih46j6RUC"
      }
    },
    {
      "cell_type": "code",
      "source": [
        "if is_pass: ## the if statement (positive)\n",
        "  print(\"Congratulations! You Passed!\") \n",
        "else: ## the else statement (negative of the if)\n",
        "  print(\"Sorry you did not pass... Please try again\") "
      ],
      "metadata": {
        "id": "iKCZCFKzqkt3",
        "outputId": "363a024c-3902-4a01-b690-b2f0f7f5d148",
        "colab": {
          "base_uri": "https://localhost:8080/"
        }
      },
      "execution_count": null,
      "outputs": [
        {
          "output_type": "stream",
          "name": "stdout",
          "text": [
            "Sorry you did not pass... Please try again\n"
          ]
        }
      ]
    },
    {
      "cell_type": "code",
      "source": [
        "# @title Try it out!\n",
        "#@markdown Let's try to set values where we can make the student pass! Change the values of the activity scores, quizzes, or exam scores to let the student get a passing grade.\n",
        "\n",
        "acts = 65 # @param {type:\"number\"}\n",
        "quizzes = 67 # @param {type:\"number\"}\n",
        "exam = 70 # @param {type:\"number\"}\n",
        "\n",
        "grade = 0.3*acts + 0.3*quizzes + 0.4*exam\n",
        "\n",
        "passing = 70\n",
        "is_pass = grade >= passing\n",
        "\n",
        "if is_pass: ## the if statement (positive)\n",
        "  print(\"Congratulations! You Passed!\") \n",
        "else: ## the else statement (negative of the if)\n",
        "  print(\"Sorry you did not pass... Please try again\")   "
      ],
      "metadata": {
        "id": "E0MdjppQHtjL"
      },
      "execution_count": null,
      "outputs": []
    },
    {
      "cell_type": "markdown",
      "source": [
        "# Part 2: Compoud Conditions\n",
        "Compound conditions are used in creating more sophisticated logic and compound decision making. There are cases that multiple options could be considered or more conditions should done after an initial filtration of logic."
      ],
      "metadata": {
        "id": "GlxnglEE6CZS"
      }
    },
    {
      "cell_type": "markdown",
      "source": [
        "## 2.1 The `elif` clause\n",
        "The `elif` clause is another condition clause that you add after the `if` clause and before the `else` clause. The `elif` clause is short for else-if. The `elif` clause enable you to add another set of conditions aside from the `if` clause and should have distinct process or reaction from an `else` clause.  "
      ],
      "metadata": {
        "id": "FFFxyFCk6Uer"
      }
    },
    {
      "cell_type": "code",
      "source": [
        "#@markdown This piece of code tries to add another message depending on which range the student's score falls into.\n",
        "#@markdown  The code notifies the student to pass if their grade is greater than or equal the passing mark. If their grade falls behind 70 and is greater than or equal to 65, they can take a remedial exam to have a chance to pass. Then finally, if their scores were lesser than 65, they failed.\n",
        "\n",
        "if grade >= 70: ## the first option or condition\n",
        "  print(\"Student Passed\")\n",
        "elif grade < 70 and grade >= 65: ## if the first option \n",
        "                                 ## is not met, try this\n",
        "                                 ## one\n",
        "  print(\"Can take a Remedial Exam\")\n",
        "else: ## if both first and second option is not met do \n",
        "      ## this\n",
        "  print(\"Student failed\") "
      ],
      "metadata": {
        "id": "J6yKAhqbqy9_"
      },
      "execution_count": null,
      "outputs": []
    },
    {
      "cell_type": "code",
      "source": [
        "# @title A Harder Example\n",
        "# @markdown Here is a more complex piece of code wherein we are going to match the equivalent GPA literal grade to the grade of a student. This uses a lot of `elif` statements and is considered inefficient, but for now it works. As you progress you knowledge and skills in programming or Python you will find better ways to implement this piece of code someday.\n",
        "print(\"The GPA equivalent of your grade is: \")\n",
        "if grade > 90:\n",
        "  print(\"A\")\n",
        "elif grade <= 93 and grade >= 90:\n",
        "  print(\"A-\")\n",
        "elif grade < 90 and grade >= 87:\n",
        "  print(\"B+\")\n",
        "elif grade < 87 and grade >= 83:\n",
        "  print(\"B\")\n",
        "elif grade < 83 and grade >=80:\n",
        "  print(\"B-\")\n",
        "elif grade < 80 and grade >= 77:\n",
        "  print(\"C+\")\n",
        "elif grade < 77 and grade >= 73:\n",
        "  print(\"C\")\n",
        "elif grade < 73 and grade >= 70:\n",
        "  print(\"C-\")\n",
        "elif grade < 70 and grade >= 67:\n",
        "  print(\"D+\")\n",
        "elif grade < 67 and grade >= 63:\n",
        "  print(\"D\")\n",
        "elif grade < 63 and grade >= 60:\n",
        "  print(\"D-\")\n",
        "else:\n",
        "  print(\"F\") "
      ],
      "metadata": {
        "id": "iZks5d2nrhvP",
        "outputId": "4e905bba-b64f-4d60-d437-f9238f789bdd",
        "colab": {
          "base_uri": "https://localhost:8080/"
        }
      },
      "execution_count": null,
      "outputs": [
        {
          "output_type": "stream",
          "name": "stdout",
          "text": [
            "The GPA equivalent of your grade is: \n",
            "D+\n"
          ]
        }
      ]
    },
    {
      "cell_type": "markdown",
      "source": [
        "## 2.2 Nested conditions\n",
        "Nested conditions are conditions within conditions. They are further logic conditions after an initial check to further analyze or further determine what specific action to be done in a subset of logic within the condition statement that covers it."
      ],
      "metadata": {
        "id": "lxKD2fD06Y47"
      }
    },
    {
      "cell_type": "code",
      "source": [
        "# @markdown This piece of code shows how nested conditions would work. The code modifies the previous example from part 2.1 where we nested another condition for those who passed. We added that from those who passed, anyone that got a grade equal or higher than 88 are exempted from the class.\n",
        "if grade >= 70:\n",
        "  print(\"Student Passed\")\n",
        "  if grade >= 88:\n",
        "    print(\"Student is qualified for exemption\")\n",
        "elif grade < 70 and grade >= 65:\n",
        "  print(\"Can take a Remedial Exam\")\n",
        "else:\n",
        "  print(\"Student failed\") "
      ],
      "metadata": {
        "id": "W6uZsLgxt7hw"
      },
      "execution_count": null,
      "outputs": []
    },
    {
      "cell_type": "code",
      "source": [
        "# @title A Harder Example\n",
        "# @markdown We made the examples from part 2.1 a bit more complex since we combined everything we encountered in this notebook so far. We added the GPA translator once we identified they passed or failed. Again this is inefficient but works! But if you want to simplify this piece of code you can go study more about Functions and special methods in Python. \n",
        "\n",
        "if grade >= 70:\n",
        "  if grade > 90:\n",
        "    gpa = \"A\"\n",
        "  elif grade <= 93 and grade >= 90:\n",
        "    gpa = \"A-\"\n",
        "  elif grade < 90 and grade >= 87:\n",
        "    gpa = \"B+\"\n",
        "  elif grade < 87 and grade >= 83:\n",
        "    gpa = \"B\"\n",
        "  elif grade < 83 and grade >=80:\n",
        "    gpa = \"B-\"\n",
        "  elif grade < 80 and grade >= 77:\n",
        "    gpa = \"C+\"\n",
        "  elif grade < 77 and grade >= 73:\n",
        "    gpa = \"C\"\n",
        "  elif grade < 73 and grade >= 70:\n",
        "    gpa = \"C-\"\n",
        "  print(\"Student Passed with GPA:\", gpa)\n",
        "elif grade < 70 and grade >= 65:\n",
        "  if grade < 70 and grade >= 67:\n",
        "    gpa = \"D+\"\n",
        "  elif grade < 67 and grade >= 63:\n",
        "    gpa = \"D\"  \n",
        "  print(\"Can take a Remedial Exam since GPA is:\", gpa)\n",
        "else:\n",
        "  if grade < 67 and grade >= 63:\n",
        "    print(\"D\")\n",
        "  elif grade < 63 and grade >= 60:\n",
        "    print(\"D-\")\n",
        "  else:\n",
        "    print(\"F\") \n",
        "  print(\"Student failed with GPA:\", gpa) "
      ],
      "metadata": {
        "id": "98TFRqXxs7MJ",
        "outputId": "6018f9e4-0219-4253-f961-5ca26183152f",
        "colab": {
          "base_uri": "https://localhost:8080/"
        }
      },
      "execution_count": null,
      "outputs": [
        {
          "output_type": "stream",
          "name": "stdout",
          "text": [
            "Can take a Remedial Exam since GPA is: D+\n"
          ]
        }
      ]
    },
    {
      "cell_type": "markdown",
      "source": [
        "# Summary\n",
        "In this notebook, we encoutered conditions. Conditions are fundamental in the development of logic flows and program flows in a piece of code. We specifically talked about the basic conditions like the `if` and `else` statement. We then coded the `elif` statement for another type of logic checks, and lastly we implemented nested-ifs for anotherl layer of logic to specify an action for a specific subset or subclass of the logic that covers it."
      ],
      "metadata": {
        "id": "C-hfK0DK6i4q"
      }
    },
    {
      "cell_type": "markdown",
      "source": [
        "# Additional Readings\n",
        "1. [Python Conditions](https://www.w3schools.com/python/python_conditions.asp)\n",
        "2. [More About errors and catching errors](https://www.geeksforgeeks.org/errors-and-exceptions-in-python/)\n",
        "3. [Short-hand Condition](https://www.pythoncentral.io/one-line-if-statement-in-python-ternary-conditional-operator/)"
      ],
      "metadata": {
        "id": "zMmnjjiQ6kvy"
      }
    }
  ]
}