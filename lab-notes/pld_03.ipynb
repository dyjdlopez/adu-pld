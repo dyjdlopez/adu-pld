{
  "nbformat": 4,
  "nbformat_minor": 0,
  "metadata": {
    "colab": {
      "name": "pld-03.ipynb",
      "provenance": [],
      "authorship_tag": "ABX9TyNXB1SbR7A3P3jHs7VcCyee",
      "include_colab_link": true
    },
    "kernelspec": {
      "name": "python3",
      "display_name": "Python 3"
    },
    "language_info": {
      "name": "python"
    }
  },
  "cells": [
    {
      "cell_type": "markdown",
      "metadata": {
        "id": "view-in-github",
        "colab_type": "text"
      },
      "source": [
        "<a href=\"https://colab.research.google.com/github/dyjdlopez/adu-pld/blob/main/lab-notes/pld_03.ipynb\" target=\"_parent\"><img src=\"https://colab.research.google.com/assets/colab-badge.svg\" alt=\"Open In Colab\"/></a>"
      ]
    },
    {
      "cell_type": "markdown",
      "metadata": {
        "id": "9d9G_a8nJ6tK"
      },
      "source": [
        "# Variables and Naming\n",
        "---\n",
        "$_{\\text{© Project Alexandria | 2021 | Programming Logic and Design}}$"
      ]
    },
    {
      "cell_type": "code",
      "metadata": {
        "id": "TOMvNJZEJ3gi"
      },
      "source": [
        "#@title Licensed under the Apache License, Version 2.0 (the \"License\");\n",
        "# you may not use this file except in compliance with the License.\n",
        "# You may obtain a copy of the License at\n",
        "#\n",
        "# https://www.apache.org/licenses/LICENSE-2.0\n",
        "#\n",
        "# Unless required by applicable law or agreed to in writing, software\n",
        "# distributed under the License is distributed on an \"AS IS\" BASIS,\n",
        "# WITHOUT WARRANTIES OR CONDITIONS OF ANY KIND, either express or implied.\n",
        "# See the License for the specific language governing permissions and\n",
        "# limitations under the License."
      ],
      "execution_count": null,
      "outputs": []
    },
    {
      "cell_type": "markdown",
      "metadata": {
        "id": "JP-gDFGkqml1"
      },
      "source": [
        "You noticed in the previous notebook that we kept on retyping the values when we try to put it inside the `type()` function. In coding, a solution to that problem is **code reusability**. To start practicing code reusability we must learn how to store values in a container to call it over and over again. We call that container a **variable**. In this notebook, we'll discuss variables and proper ways to name them."
      ]
    },
    {
      "cell_type": "markdown",
      "metadata": {
        "id": "-pC3yZJzMVQh"
      },
      "source": [
        "## Part 1: Data Storage\n",
        "Computer programs are just like any file you have in your computer. The main difference is that programs can create or remove other data. They are good at organizing itself and other data inside your computer's memory. Each value or data declared in a program has a special place in a computer's memory.\n",
        "\n",
        "However, when we keep on declaring values all over it eats up the memory of your computer and this is inefficient. A smart programmer would make use of **variables** to hold the values and data you use in the program.\n",
        "\n",
        "Think of variables as buckets that hold data and you can keep on using that bucket without creating new data. You also use the idea of variables in math where you assign a number to a letter like $x = 2$. You know wherever you are in your computation that the $x$ represents $2$."
      ]
    },
    {
      "cell_type": "code",
      "metadata": {
        "id": "gu3-U6yQu4IV"
      },
      "source": [
        "## You declare a variable by having the name or letter on the left side\n",
        "## then you put an equals sign followed by the value you want to store\n",
        "\n",
        "x = 2\n",
        "## If you want to view what's inside the variable you can just mention it.\n",
        "x "
      ],
      "execution_count": null,
      "outputs": []
    },
    {
      "cell_type": "code",
      "metadata": {
        "id": "fGsWSnjiwKJU"
      },
      "source": [
        "## You can try to name it using words\n",
        "word = 'Hello'\n",
        "word"
      ],
      "execution_count": null,
      "outputs": []
    },
    {
      "cell_type": "markdown",
      "metadata": {
        "id": "o_Z67Pf6MZOJ"
      },
      "source": [
        "## Part 2: Naming\n",
        "Now giving a name to your variable is very fun to do although most people take it for granted. Naming is very crucial in programming it could impact your work in various ways. Consequences of bad naming could range from an irritated team member to a systemic error in your program. In the next cells we will demonstrate proper naming and the common errors in naming a variable."
      ]
    },
    {
      "cell_type": "code",
      "metadata": {
        "id": "ODWk3I4cMYvP"
      },
      "source": [
        "x = 100\n",
        "y = 3.14 ## pi\n",
        "z = 9.8 ## acceleration due to gravity\n",
        "a = 2.99792e6 ## speed of light"
      ],
      "execution_count": null,
      "outputs": []
    },
    {
      "cell_type": "markdown",
      "metadata": {
        "id": "OMN3BAD5bP1-"
      },
      "source": [
        "## 2.1 Good Naming\n",
        "Now you can go beyond one or two letters when you want to name a variable. Just keep in mind, especially in Python, that readability is everything! **Readability** is the ability of your code to be read and understood by your team (not just you) with you explaining the entire program. Keep these in mind when naming variable: \n",
        "1. Variable names should be representative on what they are storing.\n",
        "2. They should be short and concise."
      ]
    },
    {
      "cell_type": "code",
      "metadata": {
        "id": "eUB-jdk6csnP"
      },
      "source": [
        "## Let's say you want to store your dog's name\n",
        "d = 'Cerberus' ## valid but hard to guess what is it given the variable name alone\n",
        "my_dogs_name = 'Cerberus' ## understable but too long\n",
        "dog_name = 'Cerberus' ## just right!"
      ],
      "execution_count": null,
      "outputs": []
    },
    {
      "cell_type": "markdown",
      "metadata": {
        "id": "uhewaJDGgPsl"
      },
      "source": [
        "#### **Challenge**\n",
        "Try to create a variable for the following:\n",
        "* Planck's constant\n",
        "* The height of Mt. Pinatubo\n",
        "* Antarctica's Average Temperature for years 2000-2020"
      ]
    },
    {
      "cell_type": "code",
      "metadata": {
        "id": "--WHzJd9gPTt"
      },
      "source": [
        "## Declare Planck's Constant\n",
        "\n",
        "## Declare The height of Mt. Pinatubo\n",
        "\n",
        "## Declare Antarctica's average temperature for years 2000-2020\n",
        "\n"
      ],
      "execution_count": null,
      "outputs": []
    },
    {
      "cell_type": "code",
      "metadata": {
        "id": "kUNRwsveg2WG"
      },
      "source": [
        "## You can try to test them out in this cell"
      ],
      "execution_count": null,
      "outputs": []
    },
    {
      "cell_type": "markdown",
      "metadata": {
        "id": "Eal7PhBzhmg-"
      },
      "source": [
        "## 2.2 Bad Naming\n",
        "If there are good naming there are also bad naming in Python (generally any programming language). A variable cannot be named in the following ways:\n",
        "1. It starts with a number. This will confuse the compiler that it is a number.\n",
        "2. It includes special characters. This will again confuse the compiler again by thinking it is an operation. However, there are valid cases such as underscores and other symbols that do not hold any other roles in programming such as greek letters.\n",
        "3. The name is a resevered word. There are reserved words in any programming language. Reserved words are special naming for functions, operations, or data types that symbolizes a special and fundamental operation in a program (i.e. int, float, type)."
      ]
    },
    {
      "cell_type": "code",
      "metadata": {
        "id": "VmJqRTrDNHWs"
      },
      "source": [
        "#@title Bad Naming 1: Starting with a Number\n",
        "\n",
        "## a variable that stores the average temperature of 5 people\n",
        "5avetemp = 36.5"
      ],
      "execution_count": null,
      "outputs": []
    },
    {
      "cell_type": "markdown",
      "metadata": {
        "id": "JBg0x3YjnO3G"
      },
      "source": [
        "You might notice that when you run the cell above it outputs a Syntax Error. Syntax Errors are type of programming errors when there is something wrong in how you declare a variable, function, or any type of code structure in a program. The usually reasons behind this is that there are unwanted characters in a declaration or there is a lack of a character in the code structure. This syntax error happened since the start of the variable is a number. We can fix this by making it a word or putting the number after the word.\n",
        "\n",
        "Possible Fixes:\n",
        "\n",
        ">`five_avetemp = 36.5`\n",
        ">\n",
        ">`avetemp5 = 36.5`\n",
        ">\n",
        ">`avetemp_5 = 36.5`"
      ]
    },
    {
      "cell_type": "code",
      "metadata": {
        "id": "t3C6Cg_ZnObm"
      },
      "source": [
        "#@title Bad Naming 2: Including a Symbol\n",
        "\n",
        "## a variable for the price of a shirt in dollars\n",
        "shirt$ = 5.00"
      ],
      "execution_count": null,
      "outputs": []
    },
    {
      "cell_type": "markdown",
      "metadata": {
        "id": "yitx1c0UpqRW"
      },
      "source": [
        "You might notice that when you run the cell above it outputs another Syntax Error. This syntax error happened since the start of the variable is a number. We can fix this by making it a word or putting the number after the word.\n",
        "\n",
        "Possible Fixes:\n",
        "\n",
        ">`shirt_USD = 5.00`\n",
        ">\n",
        ">`USD_shirt = 5.00`\n",
        ">\n",
        ">`shirt_dollar = 5.00`"
      ]
    },
    {
      "cell_type": "code",
      "metadata": {
        "id": "V-dJLDXoqdZI"
      },
      "source": [
        "#@title Bad Naming 3: Using a Reserved Word\n",
        "\n",
        "## variable for the needed blood type of a patient \n",
        "## for a blood transfusion\n",
        "type = 'AB' "
      ],
      "execution_count": 7,
      "outputs": []
    },
    {
      "cell_type": "markdown",
      "metadata": {
        "id": "cV_8j9LHsDv-"
      },
      "source": [
        "Huuray! There are no errors. That's good right? Not all errors appear with a warning. These are what we call **logical errors**. Logical errors do not usually appear on the instance they are declared. They might not produce any error at all but you might just get wrong values at the end of the program or would appear as a different error in a different part of the program. Let's try to see where would our code break."
      ]
    },
    {
      "cell_type": "code",
      "metadata": {
        "id": "oHWPxT83jLSE"
      },
      "source": [
        "## a variable tha stores the name of a patient\n",
        "patient_name = \"John Doe\"\n",
        "\n",
        "## let's try to check the data type of the patient_name\n",
        "type(patient_name)"
      ],
      "execution_count": null,
      "outputs": []
    },
    {
      "cell_type": "markdown",
      "metadata": {
        "id": "d-MW1uS1tYft"
      },
      "source": [
        "Now here's an error. If it would be your first time you might be confused why the `type()` function failed to work here but in the previous notebooks it did? The error is specifically labeled as a `Type Error`. This error happend because we are trying to treat `type` as a function like we normally do. However, we did someting previously. We assigned the blood type value to `type` as a variable. When we assigned the value to `type` we **overwrote** the `type()` function as a `type` variable. **Overwriting** is a programming technique wherein you will superimpose the pevious use or value of a function, object, or variable with a new one.\n",
        "\n",
        "Possible Fixes:\n",
        "\n",
        ">`blood_type = 'AB'`"
      ]
    },
    {
      "cell_type": "markdown",
      "metadata": {
        "id": "9XLvwJcGuz8m"
      },
      "source": [
        "# Summary\n",
        "In this notebook we discussed about data storage and variables. We also learned about the good and bad ways to name a variable. There are also Syntax and Logical errors when we wrongly name our variables.\n"
      ]
    },
    {
      "cell_type": "markdown",
      "metadata": {
        "id": "HYAJ4Ntjve0V"
      },
      "source": [
        "# Additional Readings\n",
        "1. [The Zen of Python](https://www.python.org/dev/peps/pep-0020/)\n",
        "2. [Python Errors](https://www.tutorialsteacher.com/python/error-types-in-python)\n",
        "3. [Python Naming Conventions](https://www.python.org/dev/peps/pep-0423/)\n",
        "4. [More Python Naming Conventions](https://namingconvention.org/python/variable-naming.html)"
      ]
    }
  ]
}