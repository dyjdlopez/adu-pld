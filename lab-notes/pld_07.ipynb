{
  "nbformat": 4,
  "nbformat_minor": 0,
  "metadata": {
    "colab": {
      "name": "pld-07.ipynb",
      "provenance": [],
      "authorship_tag": "ABX9TyPOFni6FSssIfbAnagA/8eX",
      "include_colab_link": true
    },
    "kernelspec": {
      "name": "python3",
      "display_name": "Python 3"
    },
    "language_info": {
      "name": "python"
    }
  },
  "cells": [
    {
      "cell_type": "markdown",
      "metadata": {
        "id": "view-in-github",
        "colab_type": "text"
      },
      "source": [
        "<a href=\"https://colab.research.google.com/github/dyjdlopez/adu-pld/blob/main/lab-notes/pld_07.ipynb\" target=\"_parent\"><img src=\"https://colab.research.google.com/assets/colab-badge.svg\" alt=\"Open In Colab\"/></a>"
      ]
    },
    {
      "cell_type": "markdown",
      "source": [
        "# Iteration\n",
        "---\n",
        "$_{\\text{© Project Alexandria | 2021 | Programming Logic and Design}}$"
      ],
      "metadata": {
        "id": "XK8sZXIPovap"
      }
    },
    {
      "cell_type": "code",
      "execution_count": null,
      "metadata": {
        "id": "IU9EPRQZou5O"
      },
      "outputs": [],
      "source": [
        "#@title Licensed under the Apache License, Version 2.0 (the \"License\");\n",
        "# you may not use this file except in compliance with the License.\n",
        "# You may obtain a copy of the License at\n",
        "#\n",
        "# https://www.apache.org/licenses/LICENSE-2.0\n",
        "#\n",
        "# Unless required by applicable law or agreed to in writing, software\n",
        "# distributed under the License is distributed on an \"AS IS\" BASIS,\n",
        "# WITHOUT WARRANTIES OR CONDITIONS OF ANY KIND, either express or implied.\n",
        "# See the License for the specific language governing permissions and\n",
        "# limitations under the License."
      ]
    },
    {
      "cell_type": "markdown",
      "source": [
        "Iterations are also important concepts in programming. We use iterations to go other different phases or changes in a value or variable in a sequence. It can also be for repeating an activity or computation for a definite number of times. We specifically call this as looping in programming. In this notebook, we will discuss the basic looping statements: the `while` loop and the `for` loop."
      ],
      "metadata": {
        "id": "iFLYvh7dvu4B"
      }
    },
    {
      "cell_type": "markdown",
      "source": [
        "# Part 1: While Loop\n",
        "The `while` loop is a simple looping statement similar to the structure of an `if` statement. The `while` loop has three main components: the condition, the process, and the loop counter. The condition is like a logical condition in the `if` statement where it determines the truth value. Whenever the `while` condition is true it will always execute the process or its code block. The code block or process could be any routine or code. You can assign variables, do arithetic, or even run functions. The final part is the loop counter. The loop counter either increments or decrements your control value before you feed it back to your `while` condition."
      ],
      "metadata": {
        "id": "VDEMW-IZo4uI"
      }
    },
    {
      "cell_type": "code",
      "source": [
        "# @markdown In this `while` loop, it is trying to print the word \"Print!\" as long as the variable `value` is less than five. The `value` is incremented every iteration.\n",
        "\n",
        "value = 0 ## control value\n",
        "while value < 5: ## while condition\n",
        "  print(\"Print!\") ## the proces or code block\n",
        "  value += 1 ## the loop counter (this does increment)"
      ],
      "metadata": {
        "id": "7CycgZZEo8j_",
        "outputId": "836d7e17-ca16-483a-c59e-6a66fd81d698",
        "colab": {
          "base_uri": "https://localhost:8080/"
        }
      },
      "execution_count": null,
      "outputs": [
        {
          "output_type": "stream",
          "name": "stdout",
          "text": [
            "Print!\n",
            "Print!\n",
            "Print!\n",
            "Print!\n",
            "Print!\n"
          ]
        }
      ]
    },
    {
      "cell_type": "markdown",
      "source": [
        "## While Loop Errors\n",
        "Handling loops are quite delicate. Several areas need to be balanced. One would be the condition of the `while` loop and the looping counter. In this case, we will look at when our condition statement is at fault."
      ],
      "metadata": {
        "id": "NvxqLAKVo3Qc"
      }
    },
    {
      "cell_type": "code",
      "source": [
        "# @markdown In this `while` loop our condition was inverted. You will notice that the there were no outputs. The loop was prematurely terminated since the condition was not met at the first iteration.\n",
        "value = 0\n",
        "while value >= 5:\n",
        "  print(\"Print!\")\n",
        "  value += 1"
      ],
      "metadata": {
        "id": "bwEobGBUm0mo"
      },
      "execution_count": null,
      "outputs": []
    },
    {
      "cell_type": "code",
      "source": [
        "# @markdown In this `while` loop there is no looping counter. WARNING this error will cause an eternal loop to stop the operation press the stop button on the left to terminate the code. This error is caused when the initial value to checked at the `while` condition is met but unchanged as the loop progresses. Since the condition would always be true it will continuously run without end.\n",
        "while value < 5:\n",
        "  print(\"Print!\")"
      ],
      "metadata": {
        "id": "c1WQ5ZjsqtGy"
      },
      "execution_count": null,
      "outputs": []
    },
    {
      "cell_type": "markdown",
      "source": [
        "# Part 2: For Loop\n",
        "The `for` loop is a more controlled looping statement. Instead of being dependent on a condition looping statements explicitly runs a range of values for a more bounded iteration. For a numeric-based iteration we usually use the `range()` function to create a sequence. "
      ],
      "metadata": {
        "id": "XWH4MBNfo9EQ"
      }
    },
    {
      "cell_type": "code",
      "source": [
        "range(4)"
      ],
      "metadata": {
        "id": "RPaM4I1B5nW5",
        "outputId": "041e071d-c4c1-4d8f-cb6b-8a7a1c3ee5f1",
        "colab": {
          "base_uri": "https://localhost:8080/"
        }
      },
      "execution_count": null,
      "outputs": [
        {
          "output_type": "execute_result",
          "data": {
            "text/plain": [
              "range(0, 4)"
            ]
          },
          "metadata": {},
          "execution_count": 8
        }
      ]
    },
    {
      "cell_type": "code",
      "source": [
        "for i in range(5): #we are creating an looping routine based on a range from 0 to 4.\n",
        "  print(i) ## this prints the current value of i"
      ],
      "metadata": {
        "id": "JLj9_Ba-pAqq",
        "outputId": "eebf924f-79e8-4528-bdc9-5e08f193c677",
        "colab": {
          "base_uri": "https://localhost:8080/"
        }
      },
      "execution_count": null,
      "outputs": [
        {
          "output_type": "stream",
          "name": "stdout",
          "text": [
            "0\n",
            "1\n",
            "2\n",
            "3\n",
            "4\n"
          ]
        }
      ]
    },
    {
      "cell_type": "code",
      "source": [
        "for i in range(5):\n",
        "  print('Print!')"
      ],
      "metadata": {
        "id": "fLyKLOiC6U_G",
        "outputId": "48cf5613-948c-49bc-9d4e-df04442df3a0",
        "colab": {
          "base_uri": "https://localhost:8080/"
        }
      },
      "execution_count": null,
      "outputs": [
        {
          "output_type": "stream",
          "name": "stdout",
          "text": [
            "Print!\n",
            "Print!\n",
            "Print!\n",
            "Print!\n",
            "Print!\n"
          ]
        }
      ]
    },
    {
      "cell_type": "code",
      "source": [
        "# @title Nested For Loops\n",
        "# @markdown Inception of loops when an operation would require iterations within iterations. In this example, we'll check an inner and outer loop. The outer loop prints like the tens value of a number while the inner loop prints the ones place value. The outer loop runs first then iterates through the inner loop before proceeding to the next iteration of the outer loop.\n",
        "inner = 10\n",
        "outer = 2\n",
        "for x in range(outer):\n",
        "  for y in range(inner):\n",
        "    print(x,y)"
      ],
      "metadata": {
        "id": "AGjNq8I0vYR_"
      },
      "execution_count": null,
      "outputs": []
    },
    {
      "cell_type": "markdown",
      "source": [
        "## For Loop Errors\n",
        "Especially with nested loops, organization can be a bit fuzzy and confusing since tabulation represents a code block. Let's check the following examples showing some common errors and let's see how to fix them."
      ],
      "metadata": {
        "id": "BDmTOU6VuBhH"
      }
    },
    {
      "cell_type": "code",
      "source": [
        "# @markdown This is a piece of code that wanted to create a nested for loop but fails to do so. The second loop and its code block fails to be indented so it wasn't specified to be under a process of the first loop.\n",
        "inner = 10\n",
        "outer = 2\n",
        "for x in range(outer):\n",
        "  print('Outer loop',x)\n",
        "for y in range(inner):\n",
        "  print('Inner loop',y)"
      ],
      "metadata": {
        "id": "t97VteaGtyqq",
        "outputId": "214f1322-8adf-4971-9654-7d8e59c2ca68",
        "colab": {
          "base_uri": "https://localhost:8080/"
        }
      },
      "execution_count": 8,
      "outputs": [
        {
          "output_type": "stream",
          "name": "stdout",
          "text": [
            "Outer loop 0\n",
            "Outer loop 1\n",
            "Inner loop 0\n",
            "Inner loop 1\n",
            "Inner loop 2\n",
            "Inner loop 3\n",
            "Inner loop 4\n",
            "Inner loop 5\n",
            "Inner loop 6\n",
            "Inner loop 7\n",
            "Inner loop 8\n",
            "Inner loop 9\n"
          ]
        }
      ]
    },
    {
      "cell_type": "code",
      "source": [
        "# @markdown Now this is a piece of code is a nested loop but fails to execute the process that was supposed to be in the inner loop. This happened because the process of the inner loop was unindented so it remained a direct process of the outer loop.\n",
        "inner = 10\n",
        "outer = 2\n",
        "for x in range(outer):\n",
        "  print('Outer loop')\n",
        "  print(x)\n",
        "  for y in range(inner):\n",
        "    print('Inner loop')\n",
        "  print(y) # this prints as 9 because the whole range\n",
        "           # already ran through until the maximum of \n",
        "           # of the inner range.\n"
      ],
      "metadata": {
        "id": "Rg26CjL1yhUC",
        "outputId": "d754f111-9370-401d-9fc2-3ba84cde5f35",
        "colab": {
          "base_uri": "https://localhost:8080/"
        }
      },
      "execution_count": 11,
      "outputs": [
        {
          "output_type": "stream",
          "name": "stdout",
          "text": [
            "Outer loop\n",
            "0\n",
            "Inner loop\n",
            "Inner loop\n",
            "Inner loop\n",
            "Inner loop\n",
            "Inner loop\n",
            "Inner loop\n",
            "Inner loop\n",
            "Inner loop\n",
            "Inner loop\n",
            "Inner loop\n",
            "9\n",
            "Outer loop\n",
            "1\n",
            "Inner loop\n",
            "Inner loop\n",
            "Inner loop\n",
            "Inner loop\n",
            "Inner loop\n",
            "Inner loop\n",
            "Inner loop\n",
            "Inner loop\n",
            "Inner loop\n",
            "Inner loop\n",
            "9\n"
          ]
        }
      ]
    },
    {
      "cell_type": "markdown",
      "source": [
        "# Part 3: Flow Control"
      ],
      "metadata": {
        "id": "xhahoZXipA-I"
      }
    },
    {
      "cell_type": "code",
      "source": [
        ""
      ],
      "metadata": {
        "id": "SHzEx2igpDDm"
      },
      "execution_count": null,
      "outputs": []
    },
    {
      "cell_type": "markdown",
      "source": [
        "# Summary"
      ],
      "metadata": {
        "id": "qWLRkzHnpD6_"
      }
    },
    {
      "cell_type": "markdown",
      "source": [
        "# Additional Readings"
      ],
      "metadata": {
        "id": "zzGoQLgOpFYY"
      }
    }
  ]
}