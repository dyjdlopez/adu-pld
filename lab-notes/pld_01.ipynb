{
  "nbformat": 4,
  "nbformat_minor": 0,
  "metadata": {
    "colab": {
      "name": "pld-01.ipynb",
      "provenance": [],
      "collapsed_sections": [],
      "toc_visible": true,
      "authorship_tag": "ABX9TyPB/NZ/yPkaGlEKoboLlbbM",
      "include_colab_link": true
    },
    "kernelspec": {
      "name": "python3",
      "display_name": "Python 3"
    },
    "language_info": {
      "name": "python"
    }
  },
  "cells": [
    {
      "cell_type": "markdown",
      "metadata": {
        "id": "view-in-github",
        "colab_type": "text"
      },
      "source": [
        "<a href=\"https://colab.research.google.com/github/dyjdlopez/adu-pld/blob/main/lab-notes/pld_01.ipynb\" target=\"_parent\"><img src=\"https://colab.research.google.com/assets/colab-badge.svg\" alt=\"Open In Colab\"/></a>"
      ]
    },
    {
      "cell_type": "markdown",
      "metadata": {
        "id": "jXj7XhhqhrZh"
      },
      "source": [
        "# Introduction to Google Colab and Python\n",
        "---\n",
        "$_{\\text{© Project Alexandria | 2021 | Programming Logic and Design}}$"
      ]
    },
    {
      "cell_type": "code",
      "metadata": {
        "id": "nNCHf-cQhnBz"
      },
      "source": [
        "#@title Licensed under the Apache License, Version 2.0 (the \"License\");\n",
        "# you may not use this file except in compliance with the License.\n",
        "# You may obtain a copy of the License at\n",
        "#\n",
        "# https://www.apache.org/licenses/LICENSE-2.0\n",
        "#\n",
        "# Unless required by applicable law or agreed to in writing, software\n",
        "# distributed under the License is distributed on an \"AS IS\" BASIS,\n",
        "# WITHOUT WARRANTIES OR CONDITIONS OF ANY KIND, either express or implied.\n",
        "# See the License for the specific language governing permissions and\n",
        "# limitations under the License."
      ],
      "execution_count": null,
      "outputs": []
    },
    {
      "cell_type": "markdown",
      "metadata": {
        "id": "xfVfdbMBi60x"
      },
      "source": [
        "## Welcome to the Programming Logic and Design Course!\n",
        "Project Alexandria would love to introduce you to the world of coding through Python. We hope you were enticed by the introductory lecture videos about programming and logic! I believe this is your first time doing programming, with Python, or even both. In this notebook, we will be introducing you to the tools that we are going to use for this course.\n",
        "\n",
        "---"
      ]
    },
    {
      "cell_type": "markdown",
      "metadata": {
        "id": "qJ1RJR4Mj1GJ"
      },
      "source": [
        "## Part 1: Google Colaboratory\n",
        "For the duration of this course, we are going to use Google Colaboratory to test some code and learn along the way. Google Colaboratory, or Google Colab for short, is a programming platform that runs Jupyter Notebook over a remote server at Google. Google Colab is initially design for Data Science and Artificial Intelliegence programming, but it is also good for learning how to code anytime and anywhere without worrying about hardware specifications or pesky installations.\n",
        "\n",
        "![image](https://external-content.duckduckgo.com/iu/?u=https%3A%2F%2Fmiro.medium.com%2Fmax%2F3880%2F1*ddtqWGkJz1TUCg1WM9qKeQ.jpeg&f=1&nofb=1)\n",
        "\n",
        "You might ask, what is a [Jupyter Notebook](https://jupyter-notebook-beginner-guide.readthedocs.io/en/latest/what_is_jupyter.html)? A Jupyter Notebook is an interactive Python coding environment that allows you to run code piece-by-piece and even put eye-pleasing notes as you run them. In the next parts of this notebook we will be going through the parts of a Colab Notebook.\n",
        "\n",
        "![image](https://external-content.duckduckgo.com/iu/?u=https%3A%2F%2Fdkrn4sk0rn31v.cloudfront.net%2Fuploads%2F2020%2F05%2FLogo-Jupyter.png&f=1&nofb=1)\n",
        "\n",
        "---"
      ]
    },
    {
      "cell_type": "markdown",
      "metadata": {
        "id": "dber_Y2Dl1OR"
      },
      "source": [
        "## Part 2: Cells\n",
        "\n",
        "In every Colab notebook there are cells. Cells are the editable or codeable areas of the notebook. There are two types of cells!"
      ]
    },
    {
      "cell_type": "markdown",
      "metadata": {
        "id": "OCbkpdPVmiSo"
      },
      "source": [
        "### First is the **Text Cell** or Markdown Cell.\n",
        "If you are reading this text this is probably encoded on a Text Cell. You can try to double-click **here** and you can see how it was written!  "
      ]
    },
    {
      "cell_type": "markdown",
      "metadata": {
        "id": "zJi5wXSEm7uZ"
      },
      "source": [
        "**👉double-click here!👈**\n",
        "\n",
        "Try to type whatever you want here. If you want to create a new Text Cell below or above this cell, try to hover your cursor just at the border above or below this cell and click on **+ Text**.\n",
        "\n",
        "---"
      ]
    },
    {
      "cell_type": "markdown",
      "metadata": {
        "id": "md_a3nJMn9NZ"
      },
      "source": [
        "### Next is the **Code Cell**\n",
        "You might have noticed that when you hovered your cursor to create a tect cell there was a **Code** cell. The code cell is where we would start putting some Python Code."
      ]
    },
    {
      "cell_type": "code",
      "metadata": {
        "id": "zX2JHgNxi6KS"
      },
      "source": [
        "'''\n",
        "This is a code cell\n",
        "\n",
        "You can type anything you want here but there is \n",
        "a unique way to make things happen! \n",
        "'''"
      ],
      "execution_count": null,
      "outputs": []
    },
    {
      "cell_type": "markdown",
      "metadata": {
        "id": "LzIe9bhOrrDw"
      },
      "source": [
        "#### **Comments**\n",
        "Let's first talk about what things you can put here.\n",
        "You've noticed that we put three quotation before and after we put \n",
        "the narrations. This is what we call commenting. \n",
        "\n",
        "A comment is a piece of text that is readable to programmers but\n",
        "not by a compiler. So the computer wouldn't read it as a command.\n",
        "\n",
        "There are several types of comments you can do:\n",
        "1. Docstrings\n",
        "2. Inline Comments\n",
        "3. Multi-line Comments"
      ]
    },
    {
      "cell_type": "code",
      "metadata": {
        "id": "-Zd7pZO3prTi"
      },
      "source": [
        "'''\n",
        "(1) Docstrings\n",
        "Docstrings are types of comments are usually narratives or long descriptions\n",
        "for large chunks of codes. Programmers usually use docstrings to tell the \n",
        "overview of the code so that other programmers would know what to do with it\n",
        "in the long run. This is a good practice called \"documentation\".\n",
        "'''"
      ],
      "execution_count": null,
      "outputs": []
    },
    {
      "cell_type": "code",
      "metadata": {
        "id": "NE5ycuK3qdvB"
      },
      "source": [
        "## (2) Inline Comments are short notes for a single line of code"
      ],
      "execution_count": null,
      "outputs": []
    },
    {
      "cell_type": "code",
      "metadata": {
        "id": "S6gAsmWTqktQ"
      },
      "source": [
        "## (3) Multi-line comments are just several consequent comments that narrates\n",
        "## about a complex code. You can make these kinds of comments using two sharps\n",
        "## or hashtags (if you want to call them that)."
      ],
      "execution_count": null,
      "outputs": []
    },
    {
      "cell_type": "markdown",
      "metadata": {
        "id": "WxJAjjktq7EY"
      },
      "source": [
        "Although you can also use Text cells to talk about your code. However, not all programmers use Jupyter Notebooks to run their code. \n",
        "\n",
        "You might also ask, which one should I use?\n",
        "To make things simpler here's a quick note:\n",
        "* If you are not in a Jupyter Notebook and you want to talk about what is the program about use a **Docstring**.\n",
        "* If you just want to leave a note, warning, or reminder about a line of code, use an **inline comment**.\n",
        "* If you want to explain a several lines of code or a group of codes (a snippet) you can use a **multi-line comment**."
      ]
    },
    {
      "cell_type": "markdown",
      "metadata": {
        "id": "p54w9iC4r9N5"
      },
      "source": [
        "#### **Code**\n",
        "Now for the main dish, code. The main purpose of the Code Cell is to, obviously, run Python code. This is now you would type in the proper syntax to run Python scripts and commands. Take note of these steps on how Google Colab would run your code:\n",
        "1. You type in your code in the Cell.\n",
        "2. You run the cell.\n",
        "3. Google Colab sends the cell to a server to run it.\n",
        "4. It returns a corresponding output based on what you ran."
      ]
    },
    {
      "cell_type": "code",
      "metadata": {
        "id": "mEtnc1Xwrns5"
      },
      "source": [
        "## (1) Let's run some code!\n",
        "## Here we'll just run a very simple \"print()\" command.\n",
        "## A print command, just displays whatever text you put into it."
      ],
      "execution_count": null,
      "outputs": []
    },
    {
      "cell_type": "code",
      "metadata": {
        "id": "NSpWQyTUs3O4"
      },
      "source": [
        "## <--- (2) Press the play button\n",
        "print(\"Hello World\")\n",
        "## Now once you pressed the play button for the first time Google Colab will\n",
        "## take some time to boot up your own space on a server!\n",
        "## If you would look at the upper right corner it would say:\n",
        "### \"Allocating...\"\n",
        "### \"Connecting...\"\n",
        "### \"Initializing...\"\n",
        "### Then the status of the RAM and Disk at the Server\n",
        "### You could then see an output below saying \"Hello World\""
      ],
      "execution_count": null,
      "outputs": []
    },
    {
      "cell_type": "markdown",
      "metadata": {
        "id": "mxoFmSUftnz5"
      },
      "source": [
        "You can try to create your own code cell by hovering at the edge of this cell and click on the **+ Code** button. Then try to create your own print routine!\n",
        "\n",
        "Just a pro tip: instead of clicking on the ▶ button all the time you can do a Ctrl+Enter command or Shift+Enter to run your code cell."
      ]
    },
    {
      "cell_type": "markdown",
      "metadata": {
        "id": "TtzXqL92uZ7h"
      },
      "source": [
        "# Summary\n",
        "\n",
        "In this notebook, you were acquainted with Google Colab and a bit of Python. We talked about the Cells of Google Colab and how to run code. In the next notebook, we will start dwelling deeper into Python by doing some Input and Output Operations."
      ]
    },
    {
      "cell_type": "markdown",
      "metadata": {
        "id": "VDVan1Yxu6-5"
      },
      "source": [
        "## Additional Readings\n",
        "\n",
        "1. [TutorialsPoint - Google Colab for Absolute Beginners](https://www.tutorialspoint.com/google_colab/index.htm)\n",
        "2. [Jupyter Notebook Quick Start Guide](https://jupyter-notebook-beginner-guide.readthedocs.io/en/latest/index.html)"
      ]
    }
  ]
}