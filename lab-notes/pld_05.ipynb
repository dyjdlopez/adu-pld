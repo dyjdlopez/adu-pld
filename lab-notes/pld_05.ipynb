{
  "nbformat": 4,
  "nbformat_minor": 0,
  "metadata": {
    "colab": {
      "name": "pld-05.ipynb",
      "provenance": [],
      "authorship_tag": "ABX9TyMNQ1+isn96yxOTzM4KDFea",
      "include_colab_link": true
    },
    "kernelspec": {
      "name": "python3",
      "display_name": "Python 3"
    },
    "language_info": {
      "name": "python"
    }
  },
  "cells": [
    {
      "cell_type": "markdown",
      "metadata": {
        "id": "view-in-github",
        "colab_type": "text"
      },
      "source": [
        "<a href=\"https://colab.research.google.com/github/dyjdlopez/adu-pld/blob/main/lab-notes/pld_05.ipynb\" target=\"_parent\"><img src=\"https://colab.research.google.com/assets/colab-badge.svg\" alt=\"Open In Colab\"/></a>"
      ]
    },
    {
      "cell_type": "markdown",
      "source": [
        "# Arithmetic and Logical Operators\n",
        "---\n",
        "$_{\\text{© Project Alexandria | 2021 | Programming Logic and Design}}$"
      ],
      "metadata": {
        "id": "DlNAdryisosq"
      }
    },
    {
      "cell_type": "code",
      "source": [
        "#@title Licensed under the Apache License, Version 2.0 (the \"License\");\n",
        "# you may not use this file except in compliance with the License.\n",
        "# You may obtain a copy of the License at\n",
        "#\n",
        "# https://www.apache.org/licenses/LICENSE-2.0\n",
        "#\n",
        "# Unless required by applicable law or agreed to in writing, software\n",
        "# distributed under the License is distributed on an \"AS IS\" BASIS,\n",
        "# WITHOUT WARRANTIES OR CONDITIONS OF ANY KIND, either express or implied.\n",
        "# See the License for the specific language governing permissions and\n",
        "# limitations under the License."
      ],
      "metadata": {
        "id": "9gxvzeVCuHzi"
      },
      "execution_count": null,
      "outputs": []
    },
    {
      "cell_type": "markdown",
      "source": [
        "# Part 1: Arithmetic Operations"
      ],
      "metadata": {
        "id": "ApIXsqWGsxDQ"
      }
    },
    {
      "cell_type": "markdown",
      "source": [
        "## 1.1 PMDAS in Python"
      ],
      "metadata": {
        "id": "LNRZE3tGs67h"
      }
    },
    {
      "cell_type": "code",
      "source": [
        "## Addition\n",
        "num1 = 5\n",
        "num2 = 7\n",
        "\n",
        "total = num1+num2\n",
        "print(\"The sum of {} and {} is {}\".format(num1,num2,total))"
      ],
      "metadata": {
        "id": "W6DcbfTx7Plj",
        "outputId": "b3f363bf-d2de-46d9-cef0-780a56535fdd",
        "colab": {
          "base_uri": "https://localhost:8080/"
        }
      },
      "execution_count": 4,
      "outputs": [
        {
          "output_type": "stream",
          "name": "stdout",
          "text": [
            "The sum of 5 and 7 is 12\n"
          ]
        }
      ]
    },
    {
      "cell_type": "code",
      "source": [
        "## Subtraction\n",
        "\n",
        "difference = num1-num2\n",
        "print(\"The difference of {} and {} is {}\".format(num1,num2,difference))"
      ],
      "metadata": {
        "id": "3XpUfWy77hmi",
        "outputId": "38a11b2c-7faf-427d-9bd7-2d1a4a45da8b",
        "colab": {
          "base_uri": "https://localhost:8080/"
        }
      },
      "execution_count": 5,
      "outputs": [
        {
          "output_type": "stream",
          "name": "stdout",
          "text": [
            "The difference of 5 and 7 is -2\n"
          ]
        }
      ]
    },
    {
      "cell_type": "code",
      "source": [
        "## Multiplication\n",
        "\n",
        "product = num1*num2\n",
        "print(\"The product of {} and {} is {}\".format(num1,num2,product))"
      ],
      "metadata": {
        "id": "OJxmAVfh7qVq",
        "outputId": "8fe183a5-3f86-4afc-b582-eea09645df54",
        "colab": {
          "base_uri": "https://localhost:8080/"
        }
      },
      "execution_count": 6,
      "outputs": [
        {
          "output_type": "stream",
          "name": "stdout",
          "text": [
            "The product of 5 and 7 is 35\n"
          ]
        }
      ]
    },
    {
      "cell_type": "code",
      "source": [
        "## Division\n",
        "\n",
        "quotient = num1/num2\n",
        "print(\"The quotient of {} and {} is {:.2f}\".format(num1,num2,quotient))"
      ],
      "metadata": {
        "id": "0J43Etu672WL",
        "outputId": "a87f9cb9-6105-4993-968f-902660e25cd7",
        "colab": {
          "base_uri": "https://localhost:8080/"
        }
      },
      "execution_count": 8,
      "outputs": [
        {
          "output_type": "stream",
          "name": "stdout",
          "text": [
            "The quotient of 5 and 7 is 0.71\n"
          ]
        }
      ]
    },
    {
      "cell_type": "code",
      "source": [
        "## You can take this further and combine the arithmetic operations\n",
        "pmdas = 3*(num1+num2)/2 + (5/3)*(num1-num2)\n",
        "print(pmdas)"
      ],
      "metadata": {
        "id": "HB9hr1lR7_xr",
        "outputId": "cc9e4b30-c6e2-4676-b28d-c046eb5ec777",
        "colab": {
          "base_uri": "https://localhost:8080/"
        }
      },
      "execution_count": 9,
      "outputs": [
        {
          "output_type": "stream",
          "name": "stdout",
          "text": [
            "14.666666666666666\n"
          ]
        }
      ]
    },
    {
      "cell_type": "code",
      "source": [
        "## Let's try to take user inputs to compute for its sum and difference\n",
        "f_num = input(\"Enter the first number:\")\n",
        "s_num = input(\"Enter the second number:\")\n",
        "\n",
        "sums = f_num + s_num\n",
        "diffs = f_num - s_num\n",
        "print(\"{0}+{1}={2}\\n{0}-{1}={3}\".format(f_num,s_num,sums,diffs))"
      ],
      "metadata": {
        "id": "N0bePm4PDaoc",
        "outputId": "581a9589-711f-47e3-ffd0-0d847c80f960",
        "colab": {
          "base_uri": "https://localhost:8080/",
          "height": 262
        }
      },
      "execution_count": 35,
      "outputs": [
        {
          "name": "stdout",
          "output_type": "stream",
          "text": [
            "Enter the first number:1\n",
            "Enter the second number:2\n"
          ]
        },
        {
          "output_type": "error",
          "ename": "TypeError",
          "evalue": "ignored",
          "traceback": [
            "\u001b[0;31m---------------------------------------------------------------------------\u001b[0m",
            "\u001b[0;31mTypeError\u001b[0m                                 Traceback (most recent call last)",
            "\u001b[0;32m<ipython-input-35-de96498166b3>\u001b[0m in \u001b[0;36m<module>\u001b[0;34m()\u001b[0m\n\u001b[1;32m      4\u001b[0m \u001b[0;34m\u001b[0m\u001b[0m\n\u001b[1;32m      5\u001b[0m \u001b[0msums\u001b[0m \u001b[0;34m=\u001b[0m \u001b[0mf_num\u001b[0m \u001b[0;34m+\u001b[0m \u001b[0ms_num\u001b[0m\u001b[0;34m\u001b[0m\u001b[0;34m\u001b[0m\u001b[0m\n\u001b[0;32m----> 6\u001b[0;31m \u001b[0mdiffs\u001b[0m \u001b[0;34m=\u001b[0m \u001b[0mf_num\u001b[0m \u001b[0;34m-\u001b[0m \u001b[0ms_num\u001b[0m\u001b[0;34m\u001b[0m\u001b[0;34m\u001b[0m\u001b[0m\n\u001b[0m\u001b[1;32m      7\u001b[0m \u001b[0mprint\u001b[0m\u001b[0;34m(\u001b[0m\u001b[0;34m\"{0}+{1}={2}\\n{0}-{1}={3}\"\u001b[0m\u001b[0;34m.\u001b[0m\u001b[0mformat\u001b[0m\u001b[0;34m(\u001b[0m\u001b[0mf_num\u001b[0m\u001b[0;34m,\u001b[0m\u001b[0ms_num\u001b[0m\u001b[0;34m,\u001b[0m\u001b[0msums\u001b[0m\u001b[0;34m,\u001b[0m\u001b[0mdiffs\u001b[0m\u001b[0;34m)\u001b[0m\u001b[0;34m)\u001b[0m\u001b[0;34m\u001b[0m\u001b[0;34m\u001b[0m\u001b[0m\n",
            "\u001b[0;31mTypeError\u001b[0m: unsupported operand type(s) for -: 'str' and 'str'"
          ]
        }
      ]
    },
    {
      "cell_type": "code",
      "source": [
        "## Oops you have run into an error. The error is telling you that you cannot\n",
        "## perform subtraction between two strings!\n",
        "\n",
        "## The input() function does not automatically knows that your input is a number.\n",
        "## As programmers you might need to anticipate this and apply a solution.\n",
        "## One solution to this is to convert the string input to a number. To do this\n",
        "## we will parse the string using the int() function. The int() function will \n",
        "## convert the string to integers.\n",
        "\n",
        "## Let's do the code again\n",
        "\n",
        "f_num = int(input(\"Enter the first number: \"))\n",
        "s_num = int(input(\"Enter the second number: \"))\n",
        "\n",
        "sums = f_num + s_num\n",
        "diffs = f_num - s_num\n",
        "print(\"{0}+{1}={2}\\n{0}-{1}={3}\".format(f_num,s_num,sums,diffs))\n",
        "\n",
        "## The float() function also exists! You can try this if your input is expecting\n",
        "## a decimal value"
      ],
      "metadata": {
        "id": "hRXqR1YYELp6"
      },
      "execution_count": null,
      "outputs": []
    },
    {
      "cell_type": "markdown",
      "source": [
        "## 1.2 Intermediate Arithmetic"
      ],
      "metadata": {
        "id": "43Pd-wfatDKx"
      }
    },
    {
      "cell_type": "code",
      "source": [
        "## Floor Division\n",
        "num3 = 10\n",
        "num4 = 7\n",
        "\n",
        "print(\"Regular division: \\n{}/{} = {}\".format(num3, num4, num3/num4)) \n",
        "print(\"Floor division: \\n{}/{} = {}\".format(num3, num4, num3//num4)) "
      ],
      "metadata": {
        "id": "f4ENMzFf__fz",
        "outputId": "9690ad2d-890f-4817-9a61-5343ca5c2057",
        "colab": {
          "base_uri": "https://localhost:8080/"
        }
      },
      "execution_count": 24,
      "outputs": [
        {
          "output_type": "stream",
          "name": "stdout",
          "text": [
            "Regular division: \n",
            "10/7 = 1.4285714285714286\n",
            "Floor division: \n",
            "10/7 = 1\n"
          ]
        }
      ]
    },
    {
      "cell_type": "code",
      "source": [
        "## Modulus\n",
        "print(num3%num4)"
      ],
      "metadata": {
        "id": "Z1jVkl9g_b7q",
        "outputId": "58ff6414-a420-42e5-90e1-dab7d104309d",
        "colab": {
          "base_uri": "https://localhost:8080/"
        }
      },
      "execution_count": 25,
      "outputs": [
        {
          "output_type": "stream",
          "name": "stdout",
          "text": [
            "3\n"
          ]
        }
      ]
    },
    {
      "cell_type": "code",
      "source": [
        "## Division with remainders\n",
        "whole_num = num3//num4\n",
        "remainder = num3%num4\n",
        "print(\"{}÷{}={}R{}\".format(num3, num4, whole_num, remainder))"
      ],
      "metadata": {
        "id": "q9GX7tZVBGIC",
        "outputId": "40596a07-121b-4c2c-f873-3a8b25784e6c",
        "colab": {
          "base_uri": "https://localhost:8080/"
        }
      },
      "execution_count": 30,
      "outputs": [
        {
          "output_type": "stream",
          "name": "stdout",
          "text": [
            "10÷7=1R3\n"
          ]
        }
      ]
    },
    {
      "cell_type": "code",
      "source": [
        "## Exponentiation\n",
        "base = 10\n",
        "power = 2\n",
        "\n",
        "print(10**2)"
      ],
      "metadata": {
        "id": "wlsnbBg2_ORD",
        "outputId": "bcc5c1be-f82a-4dcd-cb99-56bcf7f33011",
        "colab": {
          "base_uri": "https://localhost:8080/"
        }
      },
      "execution_count": 15,
      "outputs": [
        {
          "output_type": "stream",
          "name": "stdout",
          "text": [
            "100\n"
          ]
        }
      ]
    },
    {
      "cell_type": "code",
      "source": [
        "## Roots (using math logic)\n",
        "squared = 25\n",
        "\n",
        "sq_root = 25**(1/2)\n",
        "print(\"The square root of {} is {}\".format(squared, sq_root))"
      ],
      "metadata": {
        "id": "G_Lt1sAgBzhz",
        "outputId": "6af6c24f-4fd4-4696-954a-0de5dbf141a1",
        "colab": {
          "base_uri": "https://localhost:8080/"
        }
      },
      "execution_count": 33,
      "outputs": [
        {
          "output_type": "stream",
          "name": "stdout",
          "text": [
            "The square root of 25 is 5.0\n"
          ]
        }
      ]
    },
    {
      "cell_type": "markdown",
      "source": [
        "Python can be used in coding mathematics! We can try to transcribe equations easily. Take this equation for example:\n",
        "\n",
        "$$F = G\\frac{m_1m_2}{r^2}$$\n",
        "\n",
        "If you have done some physics before, this is the Universal law of gravitation where:\n",
        "\n",
        "* $F$ is the force between two objects;\n",
        "* $G$ is the universal gravitational constant;\n",
        "* $m_1$ is the mass of the first object;\n",
        "* $m_2$ is the mass of the second object; and\n",
        "* $r$ is the distance between the two objects"
      ],
      "metadata": {
        "id": "ro3Wp6qE8FyB"
      }
    },
    {
      "cell_type": "code",
      "source": [
        "## We can try to model that in Python\n",
        "\n",
        "G = 6.67e10-11 ## the universal gravitational constant\n",
        "m1 = 5.972e24 ## the mass of Earth\n",
        "m2 = 7.348e22 ## the mass of the Moon\n",
        "r = 3.84e8 ## the distance between the Earth and the Moon\n",
        "\n",
        "F = G*(m1*m2)/r**2\n",
        "\n",
        "print(\"The gravitational force between Earth and the Moon is {:.3e} N.\" .format(F))\n",
        "## We used .3e instead of .3f since we want to use scientific notation. \n",
        "## You can try .3f is you want to see the difference!"
      ],
      "metadata": {
        "id": "UDgZxpIy9wsq",
        "outputId": "6f9859a7-2294-4b8d-b7bd-008fa12a9b3e",
        "colab": {
          "base_uri": "https://localhost:8080/"
        }
      },
      "execution_count": 14,
      "outputs": [
        {
          "output_type": "stream",
          "name": "stdout",
          "text": [
            "The gravitational force between Earth and the Moon is 1.985e+41 N\n"
          ]
        }
      ]
    },
    {
      "cell_type": "markdown",
      "source": [
        "## 1.3 Arithmetic Assignment"
      ],
      "metadata": {
        "id": "uSzBWt4jtH0p"
      }
    },
    {
      "cell_type": "code",
      "source": [
        "## Increments\n",
        "inc_const = 1\n",
        "inc_total = 0"
      ],
      "metadata": {
        "id": "3EHWEPtrFJAh"
      },
      "execution_count": 39,
      "outputs": []
    },
    {
      "cell_type": "code",
      "source": [
        "inc_total = inc_total + inc_const\n",
        "print(inc_total)"
      ],
      "metadata": {
        "id": "CVQUqEixFhWD"
      },
      "execution_count": null,
      "outputs": []
    },
    {
      "cell_type": "code",
      "source": [
        "inc_const = 1\n",
        "inc_total = 0"
      ],
      "metadata": {
        "id": "A6I3j1E2FlyK"
      },
      "execution_count": 46,
      "outputs": []
    },
    {
      "cell_type": "code",
      "source": [
        "inc_total += inc_const\n",
        "print(inc_total)"
      ],
      "metadata": {
        "id": "M4RuHPGUFgPy"
      },
      "execution_count": null,
      "outputs": []
    },
    {
      "cell_type": "code",
      "source": [
        "## Decrement\n",
        "dec_const = 1\n",
        "dec_total = 100"
      ],
      "metadata": {
        "id": "GRhtW5_tFwnK"
      },
      "execution_count": null,
      "outputs": []
    },
    {
      "cell_type": "code",
      "source": [
        "dec_total -= dec_const"
      ],
      "metadata": {
        "id": "ZnUliNTeF3P5"
      },
      "execution_count": null,
      "outputs": []
    },
    {
      "cell_type": "code",
      "source": [
        "## Exponential increase/decay\n",
        "exp_const = 2\n",
        "explode = 1\n",
        "decay = 1024"
      ],
      "metadata": {
        "id": "dpP_Lzt5GGGy"
      },
      "execution_count": 65,
      "outputs": []
    },
    {
      "cell_type": "code",
      "source": [
        "explode *= exp_const\n",
        "print(explode)"
      ],
      "metadata": {
        "id": "F7ck6f4FGzJy"
      },
      "execution_count": null,
      "outputs": []
    },
    {
      "cell_type": "code",
      "source": [
        "decay /= exp_const\n",
        "print(decay)"
      ],
      "metadata": {
        "id": "sxNQmz0gGYxL"
      },
      "execution_count": null,
      "outputs": []
    },
    {
      "cell_type": "markdown",
      "source": [
        "# Part 2: Comparison Operations"
      ],
      "metadata": {
        "id": "7zAZ_w0vtwex"
      }
    },
    {
      "cell_type": "markdown",
      "source": [
        "## 2.1 Equalities and Identities"
      ],
      "metadata": {
        "id": "JSJRNCjlt0jy"
      }
    },
    {
      "cell_type": "code",
      "source": [
        "value_1 = 3\n",
        "value_2 = 2\n",
        "value_3 = 3.0"
      ],
      "metadata": {
        "id": "Hge_Bk5PHQdq"
      },
      "execution_count": 82,
      "outputs": []
    },
    {
      "cell_type": "code",
      "source": [
        "## Equality\n",
        "print(value_1 == value_2)\n",
        "print(value_1 == value_3)"
      ],
      "metadata": {
        "id": "1Kbzt1HqHYhM",
        "outputId": "9213b5e6-96ae-45b4-935f-d0a116bcf796",
        "colab": {
          "base_uri": "https://localhost:8080/"
        }
      },
      "execution_count": 83,
      "outputs": [
        {
          "output_type": "stream",
          "name": "stdout",
          "text": [
            "False\n",
            "True\n"
          ]
        }
      ]
    },
    {
      "cell_type": "code",
      "source": [
        "## Identity\n",
        "print(value_1 is value_2)\n",
        "print(value_1 is value_3)"
      ],
      "metadata": {
        "id": "QVBLOIN6JZsR",
        "outputId": "1fa77e35-5643-40d2-a450-5991d6f8d758",
        "colab": {
          "base_uri": "https://localhost:8080/"
        }
      },
      "execution_count": 84,
      "outputs": [
        {
          "output_type": "stream",
          "name": "stdout",
          "text": [
            "False\n",
            "False\n"
          ]
        }
      ]
    },
    {
      "cell_type": "markdown",
      "source": [
        "## 2.2 Inequalities"
      ],
      "metadata": {
        "id": "mS78YGaxt30R"
      }
    },
    {
      "cell_type": "code",
      "source": [
        "## Non-equality\n",
        "print(value_1 != value_2)\n",
        "print(value_1 != value_3)"
      ],
      "metadata": {
        "id": "gD5TqyzfLEK5",
        "outputId": "2d1296f3-d9ef-4f1b-85bd-41910ee8823e",
        "colab": {
          "base_uri": "https://localhost:8080/"
        }
      },
      "execution_count": 85,
      "outputs": [
        {
          "output_type": "stream",
          "name": "stdout",
          "text": [
            "True\n",
            "False\n"
          ]
        }
      ]
    },
    {
      "cell_type": "code",
      "source": [
        "## Greater Than\n",
        "print(value_1 > value_2)\n",
        "print(value_1 > value_3)"
      ],
      "metadata": {
        "id": "ARbqYbASKi7z",
        "outputId": "87a34e38-c4f6-4327-8b42-782e5537c154",
        "colab": {
          "base_uri": "https://localhost:8080/"
        }
      },
      "execution_count": 86,
      "outputs": [
        {
          "output_type": "stream",
          "name": "stdout",
          "text": [
            "True\n",
            "False\n"
          ]
        }
      ]
    },
    {
      "cell_type": "code",
      "source": [
        "## GEQ\n",
        "print(value_1 >= value_2)\n",
        "print(value_1 >= value_3)"
      ],
      "metadata": {
        "id": "QrWaRxwpK4XJ",
        "outputId": "55ab2ee3-cac1-4629-a6d1-026c9c9d9310",
        "colab": {
          "base_uri": "https://localhost:8080/"
        }
      },
      "execution_count": 87,
      "outputs": [
        {
          "output_type": "stream",
          "name": "stdout",
          "text": [
            "True\n",
            "True\n"
          ]
        }
      ]
    },
    {
      "cell_type": "code",
      "source": [
        "## Less Than\n",
        "print(value_1 < value_2)\n",
        "print(value_2 < value_3)"
      ],
      "metadata": {
        "id": "JH1OM5WLKq4r",
        "outputId": "1215179c-e9a0-4e47-baca-8c01b7251922",
        "colab": {
          "base_uri": "https://localhost:8080/"
        }
      },
      "execution_count": 88,
      "outputs": [
        {
          "output_type": "stream",
          "name": "stdout",
          "text": [
            "False\n",
            "True\n"
          ]
        }
      ]
    },
    {
      "cell_type": "code",
      "source": [
        "## LEQ\n",
        "print(value_1 <= value_2)\n",
        "print(value_2 <= value_3)"
      ],
      "metadata": {
        "id": "jru6Umq3K-kz",
        "outputId": "c24e26d4-3fce-4f63-c54f-bb2886d9ca4d",
        "colab": {
          "base_uri": "https://localhost:8080/"
        }
      },
      "execution_count": 89,
      "outputs": [
        {
          "output_type": "stream",
          "name": "stdout",
          "text": [
            "False\n",
            "True\n"
          ]
        }
      ]
    },
    {
      "cell_type": "markdown",
      "source": [
        "# Part 3: Logical Operations"
      ],
      "metadata": {
        "id": "CoOMzywLs4QJ"
      }
    },
    {
      "cell_type": "code",
      "source": [
        "bool1 = True\n",
        "bool2 = False"
      ],
      "metadata": {
        "id": "Vn5ZHtNLLURK"
      },
      "execution_count": 103,
      "outputs": []
    },
    {
      "cell_type": "markdown",
      "source": [
        "## 3.1 Negation (NOT Operation)"
      ],
      "metadata": {
        "id": "mleZe2XOtRox"
      }
    },
    {
      "cell_type": "code",
      "source": [
        "print(not(bool1))\n",
        "print(not(bool2))"
      ],
      "metadata": {
        "id": "hE6xD3ptLxHq",
        "outputId": "45a9cc61-d42c-43b6-e97f-57f6c3e301ac",
        "colab": {
          "base_uri": "https://localhost:8080/"
        }
      },
      "execution_count": 104,
      "outputs": [
        {
          "output_type": "stream",
          "name": "stdout",
          "text": [
            "False\n",
            "True\n"
          ]
        }
      ]
    },
    {
      "cell_type": "code",
      "source": [
        "passing = 50\n",
        "my_score = 75\n",
        "is_pass = my_score >= passing\n",
        "print(\"Is score {} greater or equal than the passing {}?\\nPass: {}\\n\".format(passing, my_score, is_pass))\n",
        "print(\"Is score {} less than the passing {}?\\nFail: {}\\n\".format(passing, my_score, not(is_pass)))"
      ],
      "metadata": {
        "id": "8nZ3K3W4L3QE",
        "outputId": "05449d71-c8a1-4c4a-8b0e-848916e42649",
        "colab": {
          "base_uri": "https://localhost:8080/"
        }
      },
      "execution_count": 124,
      "outputs": [
        {
          "output_type": "stream",
          "name": "stdout",
          "text": [
            "Is score 50 greater or equal than the passing 75?\n",
            "Pass: True\n",
            "\n",
            "Is score 50 less than the passing 75?\n",
            "Fail: False\n",
            "\n"
          ]
        }
      ]
    },
    {
      "cell_type": "markdown",
      "source": [
        "## 3.2 Conjuction (AND Operation)"
      ],
      "metadata": {
        "id": "0TB5VXcjteB5"
      }
    },
    {
      "cell_type": "code",
      "source": [
        "## Truth table\n",
        "print(\"| x\\t| y\\t| x AND y\")\n",
        "print(\"| {}\\t| {}\\t| {}\".format(True, True, True and True))\n",
        "print(\"| {}\\t| {}\\t| {}\".format(True, False, True and False))\n",
        "print(\"| {}\\t| {}\\t| {}\".format(False, True, False and True))\n",
        "print(\"| {}\\t| {}\\t| {}\".format(False, False, False and False))"
      ],
      "metadata": {
        "id": "vPBH4WTLM2di",
        "outputId": "94d7c004-709e-4a1b-ce2a-c0943c27e5de",
        "colab": {
          "base_uri": "https://localhost:8080/"
        }
      },
      "execution_count": 113,
      "outputs": [
        {
          "output_type": "stream",
          "name": "stdout",
          "text": [
            "| x\t| y\t| x AND y\n",
            "| True\t| True\t| True\n",
            "| True\t| False\t| False\n",
            "| False\t| True\t| False\n",
            "| False\t| False\t| False\n"
          ]
        }
      ]
    },
    {
      "cell_type": "code",
      "source": [
        "ordered_meal = 'B'\n",
        "ordered_drinks = '1'\n",
        "\n",
        "delivered_meal = 'B'\n",
        "delivered_drinks = '2'\n",
        "\n",
        "purchase = (ordered_meal == delivered_meal) and (ordered_drinks == delivered_drinks)\n",
        "print(\"The purchase was successful: {}\".format(purchase))"
      ],
      "metadata": {
        "id": "85lE1DrAQ1G6",
        "outputId": "04991a16-1520-4319-8e3f-6a6c090cc4e5",
        "colab": {
          "base_uri": "https://localhost:8080/"
        }
      },
      "execution_count": 125,
      "outputs": [
        {
          "output_type": "stream",
          "name": "stdout",
          "text": [
            "The purchase was successful: False\n"
          ]
        }
      ]
    },
    {
      "cell_type": "markdown",
      "source": [
        "## 3.3 Disjunction (OR Operation)"
      ],
      "metadata": {
        "id": "krQckcqhtgu0"
      }
    },
    {
      "cell_type": "code",
      "execution_count": 114,
      "metadata": {
        "id": "P_123tCQsYIs",
        "outputId": "927a542a-3189-43d1-ed77-76ec05f2313d",
        "colab": {
          "base_uri": "https://localhost:8080/"
        }
      },
      "outputs": [
        {
          "output_type": "stream",
          "name": "stdout",
          "text": [
            "| x\t| y\t| x AND y\n",
            "| True\t| True\t| True\n",
            "| True\t| False\t| True\n",
            "| False\t| True\t| True\n",
            "| False\t| False\t| False\n"
          ]
        }
      ],
      "source": [
        "## Truth table\n",
        "print(\"| x\\t| y\\t| x OR y\")\n",
        "print(\"| {}\\t| {}\\t| {}\".format(True, True, True or True))\n",
        "print(\"| {}\\t| {}\\t| {}\".format(True, False, True or False))\n",
        "print(\"| {}\\t| {}\\t| {}\".format(False, True, False or True))\n",
        "print(\"| {}\\t| {}\\t| {}\".format(False, False, False or False))"
      ]
    },
    {
      "cell_type": "code",
      "source": [
        "pref_time = \"short\"\n",
        "pref_genre = \"horror\"\n",
        "\n",
        "recom_time = \"long\"\n",
        "recom_genre = \"horror\"\n",
        "\n",
        "match = (pref_time == recom_time) or (pref_genre == recom_genre)\n",
        "print(\"Was the recommendation useful? {}\".format(match))"
      ],
      "metadata": {
        "id": "27d4uXC8R6wT",
        "outputId": "01ff1776-bc44-40ff-b32e-ed82487a52b5",
        "colab": {
          "base_uri": "https://localhost:8080/"
        }
      },
      "execution_count": 127,
      "outputs": [
        {
          "output_type": "stream",
          "name": "stdout",
          "text": [
            "Was the recommendation useful? True\n"
          ]
        }
      ]
    },
    {
      "cell_type": "markdown",
      "source": [
        "# Summary"
      ],
      "metadata": {
        "id": "oxxT8czquCPR"
      }
    },
    {
      "cell_type": "markdown",
      "source": [
        "# Additional Readings"
      ],
      "metadata": {
        "id": "3PNot65yuDHC"
      }
    }
  ]
}