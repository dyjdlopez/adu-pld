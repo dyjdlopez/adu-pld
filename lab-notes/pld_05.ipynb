{
  "nbformat": 4,
  "nbformat_minor": 0,
  "metadata": {
    "colab": {
      "name": "pld-05.ipynb",
      "provenance": [],
      "authorship_tag": "ABX9TyM/ddFY+R54qnd53chcoVum",
      "include_colab_link": true
    },
    "kernelspec": {
      "name": "python3",
      "display_name": "Python 3"
    },
    "language_info": {
      "name": "python"
    }
  },
  "cells": [
    {
      "cell_type": "markdown",
      "metadata": {
        "id": "view-in-github",
        "colab_type": "text"
      },
      "source": [
        "<a href=\"https://colab.research.google.com/github/dyjdlopez/adu-pld/blob/main/lab-notes/pld_05.ipynb\" target=\"_parent\"><img src=\"https://colab.research.google.com/assets/colab-badge.svg\" alt=\"Open In Colab\"/></a>"
      ]
    },
    {
      "cell_type": "markdown",
      "source": [
        "# Arithmetic and Logical Operators\n",
        "---\n",
        "$_{\\text{© Project Alexandria | 2021 | Programming Logic and Design}}$"
      ],
      "metadata": {
        "id": "DlNAdryisosq"
      }
    },
    {
      "cell_type": "code",
      "source": [
        "#@title Licensed under the Apache License, Version 2.0 (the \"License\");\n",
        "# you may not use this file except in compliance with the License.\n",
        "# You may obtain a copy of the License at\n",
        "#\n",
        "# https://www.apache.org/licenses/LICENSE-2.0\n",
        "#\n",
        "# Unless required by applicable law or agreed to in writing, software\n",
        "# distributed under the License is distributed on an \"AS IS\" BASIS,\n",
        "# WITHOUT WARRANTIES OR CONDITIONS OF ANY KIND, either express or implied.\n",
        "# See the License for the specific language governing permissions and\n",
        "# limitations under the License."
      ],
      "metadata": {
        "id": "9gxvzeVCuHzi"
      },
      "execution_count": null,
      "outputs": []
    },
    {
      "cell_type": "markdown",
      "source": [
        "# Part 1: Arithmetic Operations"
      ],
      "metadata": {
        "id": "ApIXsqWGsxDQ"
      }
    },
    {
      "cell_type": "markdown",
      "source": [
        "## 1.1 PMDAS in Python"
      ],
      "metadata": {
        "id": "LNRZE3tGs67h"
      }
    },
    {
      "cell_type": "markdown",
      "source": [
        "## 1.2 Intermediate Arithmetic"
      ],
      "metadata": {
        "id": "43Pd-wfatDKx"
      }
    },
    {
      "cell_type": "markdown",
      "source": [
        "## 1.3 Arithmetic Assignment"
      ],
      "metadata": {
        "id": "uSzBWt4jtH0p"
      }
    },
    {
      "cell_type": "markdown",
      "source": [
        "# Part 2: Comparison Operations"
      ],
      "metadata": {
        "id": "7zAZ_w0vtwex"
      }
    },
    {
      "cell_type": "markdown",
      "source": [
        "## 2.1 Equalities and Identities"
      ],
      "metadata": {
        "id": "JSJRNCjlt0jy"
      }
    },
    {
      "cell_type": "markdown",
      "source": [
        "## 2.2 Inequalities"
      ],
      "metadata": {
        "id": "mS78YGaxt30R"
      }
    },
    {
      "cell_type": "markdown",
      "source": [
        "# Part 3: Logical Operations"
      ],
      "metadata": {
        "id": "CoOMzywLs4QJ"
      }
    },
    {
      "cell_type": "markdown",
      "source": [
        "## 3.1 Negation (NOT Operation)"
      ],
      "metadata": {
        "id": "mleZe2XOtRox"
      }
    },
    {
      "cell_type": "markdown",
      "source": [
        "## 3.2 Conjuction (AND Operation)"
      ],
      "metadata": {
        "id": "0TB5VXcjteB5"
      }
    },
    {
      "cell_type": "markdown",
      "source": [
        "## 3.3 Disjunction (OR Operation)"
      ],
      "metadata": {
        "id": "krQckcqhtgu0"
      }
    },
    {
      "cell_type": "code",
      "execution_count": null,
      "metadata": {
        "id": "P_123tCQsYIs"
      },
      "outputs": [],
      "source": [
        ""
      ]
    },
    {
      "cell_type": "markdown",
      "source": [
        "# Summary"
      ],
      "metadata": {
        "id": "oxxT8czquCPR"
      }
    },
    {
      "cell_type": "markdown",
      "source": [
        "# Additional Readings"
      ],
      "metadata": {
        "id": "3PNot65yuDHC"
      }
    }
  ]
}