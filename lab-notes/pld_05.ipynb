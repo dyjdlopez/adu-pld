{
  "nbformat": 4,
  "nbformat_minor": 0,
  "metadata": {
    "colab": {
      "name": "pld-05.ipynb",
      "provenance": [],
      "authorship_tag": "ABX9TyOVTlS8dWbnxIDcn9FH1Buz",
      "include_colab_link": true
    },
    "kernelspec": {
      "name": "python3",
      "display_name": "Python 3"
    },
    "language_info": {
      "name": "python"
    }
  },
  "cells": [
    {
      "cell_type": "markdown",
      "metadata": {
        "id": "view-in-github",
        "colab_type": "text"
      },
      "source": [
        "<a href=\"https://colab.research.google.com/github/dyjdlopez/adu-pld/blob/main/lab-notes/pld_05.ipynb\" target=\"_parent\"><img src=\"https://colab.research.google.com/assets/colab-badge.svg\" alt=\"Open In Colab\"/></a>"
      ]
    },
    {
      "cell_type": "markdown",
      "source": [
        "# Arithmetic and Logical Operators\n",
        "---\n",
        "$_{\\text{© Project Alexandria | 2021 | Programming Logic and Design}}$"
      ],
      "metadata": {
        "id": "DlNAdryisosq"
      }
    },
    {
      "cell_type": "code",
      "source": [
        "#@title Licensed under the Apache License, Version 2.0 (the \"License\");\n",
        "# you may not use this file except in compliance with the License.\n",
        "# You may obtain a copy of the License at\n",
        "#\n",
        "# https://www.apache.org/licenses/LICENSE-2.0\n",
        "#\n",
        "# Unless required by applicable law or agreed to in writing, software\n",
        "# distributed under the License is distributed on an \"AS IS\" BASIS,\n",
        "# WITHOUT WARRANTIES OR CONDITIONS OF ANY KIND, either express or implied.\n",
        "# See the License for the specific language governing permissions and\n",
        "# limitations under the License."
      ],
      "metadata": {
        "id": "9gxvzeVCuHzi"
      },
      "execution_count": null,
      "outputs": []
    },
    {
      "cell_type": "markdown",
      "source": [
        "The core of software development lies in the well-structured arithmetic and logical flow of a program. Famous websites and apps such as Facebook, Google, Uber, and Netflix all rely on arithemtic and logic to maintain their services. In your journey in Software Development math and logic would never be out of the equation when you wish develop great apps. In this notebook, we will be tackling basic arithmetic and logic in Python."
      ],
      "metadata": {
        "id": "H-45NtK5_FmC"
      }
    },
    {
      "cell_type": "markdown",
      "source": [
        "# Part 1: Arithmetic Operations\n",
        "This is the part where most of the people who hate math would attempt to stop or skip. But before you go, let me show you an aopportunity to actually make math easier for you. Using programming, you can automate the equations that would be troublesome to do on paper. You can think that the mantra in programming for math is *run once, solve many times*. In this section, we will discuss basic to intermediate operations to help you out in applying it to basic math and some sciences."
      ],
      "metadata": {
        "id": "ApIXsqWGsxDQ"
      }
    },
    {
      "cell_type": "markdown",
      "source": [
        "## 1.1 PMDAS in Python\n",
        "\n",
        "Let's just go through the basic arithmetic and how you can actually code them. We'll look at the basic arithmetic:\n",
        "* Addition\n",
        "* Subtraction\n",
        "* Multiplication\n",
        "* Division\n",
        "\n",
        "We'll also look at the combining their uses in a single code block."
      ],
      "metadata": {
        "id": "LNRZE3tGs67h"
      }
    },
    {
      "cell_type": "code",
      "source": [
        "# @title Addition\n",
        "# @markdown Just simply put plus \"+\" sign between your numbers or variables\n",
        "num1 = 5\n",
        "num2 = 7\n",
        "\n",
        "total = num1+num2 \n",
        "print(\"{} plus {} is {}\".format(num1,num2,total))"
      ],
      "metadata": {
        "id": "W6DcbfTx7Plj",
        "outputId": "b3f363bf-d2de-46d9-cef0-780a56535fdd",
        "colab": {
          "base_uri": "https://localhost:8080/"
        }
      },
      "execution_count": null,
      "outputs": [
        {
          "output_type": "stream",
          "name": "stdout",
          "text": [
            "The sum of 5 and 7 is 12\n"
          ]
        }
      ]
    },
    {
      "cell_type": "code",
      "source": [
        "# @title Subtraction\n",
        "# @markdown Just like addition, just put the minus \"-\" sign for subtraction.\n",
        "difference = num1-num2 \n",
        "print(\"{} minus {} is {}\".format(num1,num2,difference))"
      ],
      "metadata": {
        "id": "3XpUfWy77hmi",
        "outputId": "38a11b2c-7faf-427d-9bd7-2d1a4a45da8b",
        "colab": {
          "base_uri": "https://localhost:8080/"
        }
      },
      "execution_count": null,
      "outputs": [
        {
          "output_type": "stream",
          "name": "stdout",
          "text": [
            "The difference of 5 and 7 is -2\n"
          ]
        }
      ]
    },
    {
      "cell_type": "code",
      "source": [
        "# @title Multiplication\n",
        "# @markdown To do multiplication just put the asterisk \"*\" symbol between the variables.\n",
        "product = num1*num2 \n",
        "print(\"{} times {} is {}\".format(num1,num2,product))"
      ],
      "metadata": {
        "id": "OJxmAVfh7qVq",
        "outputId": "8fe183a5-3f86-4afc-b582-eea09645df54",
        "colab": {
          "base_uri": "https://localhost:8080/"
        }
      },
      "execution_count": null,
      "outputs": [
        {
          "output_type": "stream",
          "name": "stdout",
          "text": [
            "The product of 5 and 7 is 35\n"
          ]
        }
      ]
    },
    {
      "cell_type": "code",
      "source": [
        "# @title Division\n",
        "# @markdown For division use the forward slash \"/\" even if you are operating with integers your result would be floats.\n",
        "quotient = num1/num2\n",
        "print(\"{} divided by{} is {:.2f}\".format(num1,\n",
        "                                         num2,\n",
        "                                         quotient))"
      ],
      "metadata": {
        "id": "0J43Etu672WL",
        "outputId": "a87f9cb9-6105-4993-968f-902660e25cd7",
        "colab": {
          "base_uri": "https://localhost:8080/"
        }
      },
      "execution_count": null,
      "outputs": [
        {
          "output_type": "stream",
          "name": "stdout",
          "text": [
            "The quotient of 5 and 7 is 0.71\n"
          ]
        }
      ]
    },
    {
      "cell_type": "code",
      "source": [
        "# @markdown You can take this further and combine the arithmetic operations If you prefer knowing the equation in standard format it would actually look like this:$$\\text{PMDAS} = \\frac{3(num_1+num_2)}{2} + \\frac{5}{3}(num_1-num_2) $$\n",
        "\n",
        "## this is usually called linear format\n",
        "pmdas = 3*(num1+num2)/2 + (5/3)*(num1-num2)\n",
        " \n",
        "print(pmdas)"
      ],
      "metadata": {
        "id": "HB9hr1lR7_xr"
      },
      "execution_count": null,
      "outputs": []
    },
    {
      "cell_type": "markdown",
      "source": [
        ""
      ],
      "metadata": {
        "id": "u7LbLun-Jb30"
      }
    },
    {
      "cell_type": "code",
      "source": [
        "## Let's try to take user inputs to compute for its sum and difference\n",
        "f_num = input(\"Enter the first number:\")\n",
        "s_num = input(\"Enter the second number:\")\n",
        "\n",
        "sums = f_num + s_num\n",
        "diffs = f_num - s_num\n",
        "print(\"{0}+{1}={2}\\n{0}-{1}={3}\".format(f_num,s_num,sums,diffs))"
      ],
      "metadata": {
        "id": "N0bePm4PDaoc",
        "outputId": "581a9589-711f-47e3-ffd0-0d847c80f960",
        "colab": {
          "base_uri": "https://localhost:8080/",
          "height": 262
        }
      },
      "execution_count": null,
      "outputs": [
        {
          "name": "stdout",
          "output_type": "stream",
          "text": [
            "Enter the first number:1\n",
            "Enter the second number:2\n"
          ]
        },
        {
          "output_type": "error",
          "ename": "TypeError",
          "evalue": "ignored",
          "traceback": [
            "\u001b[0;31m---------------------------------------------------------------------------\u001b[0m",
            "\u001b[0;31mTypeError\u001b[0m                                 Traceback (most recent call last)",
            "\u001b[0;32m<ipython-input-35-de96498166b3>\u001b[0m in \u001b[0;36m<module>\u001b[0;34m()\u001b[0m\n\u001b[1;32m      4\u001b[0m \u001b[0;34m\u001b[0m\u001b[0m\n\u001b[1;32m      5\u001b[0m \u001b[0msums\u001b[0m \u001b[0;34m=\u001b[0m \u001b[0mf_num\u001b[0m \u001b[0;34m+\u001b[0m \u001b[0ms_num\u001b[0m\u001b[0;34m\u001b[0m\u001b[0;34m\u001b[0m\u001b[0m\n\u001b[0;32m----> 6\u001b[0;31m \u001b[0mdiffs\u001b[0m \u001b[0;34m=\u001b[0m \u001b[0mf_num\u001b[0m \u001b[0;34m-\u001b[0m \u001b[0ms_num\u001b[0m\u001b[0;34m\u001b[0m\u001b[0;34m\u001b[0m\u001b[0m\n\u001b[0m\u001b[1;32m      7\u001b[0m \u001b[0mprint\u001b[0m\u001b[0;34m(\u001b[0m\u001b[0;34m\"{0}+{1}={2}\\n{0}-{1}={3}\"\u001b[0m\u001b[0;34m.\u001b[0m\u001b[0mformat\u001b[0m\u001b[0;34m(\u001b[0m\u001b[0mf_num\u001b[0m\u001b[0;34m,\u001b[0m\u001b[0ms_num\u001b[0m\u001b[0;34m,\u001b[0m\u001b[0msums\u001b[0m\u001b[0;34m,\u001b[0m\u001b[0mdiffs\u001b[0m\u001b[0;34m)\u001b[0m\u001b[0;34m)\u001b[0m\u001b[0;34m\u001b[0m\u001b[0;34m\u001b[0m\u001b[0m\n",
            "\u001b[0;31mTypeError\u001b[0m: unsupported operand type(s) for -: 'str' and 'str'"
          ]
        }
      ]
    },
    {
      "cell_type": "code",
      "source": [
        "# @markdown Oops you have run into an error. The error is telling you that you cannot perform subtraction between two strings! \n",
        "# @markdown The `input()` function does not automatically knows that your input is a number. As programmers you might need to anticipate this and apply a solution. One solution to this is to convert the string input to a number. To do this we will parse the string using the `int()` function. The `int()` function will convert the string to integers.\n",
        "\n",
        "## Let's do the code again\n",
        "\n",
        "f_num = int(input(\"Enter the first number: \"))\n",
        "s_num = int(input(\"Enter the second number: \"))\n",
        "\n",
        "sums = f_num + s_num\n",
        "diffs = f_num - s_num\n",
        "print(\"{0}+{1}={2}\\n{0}-{1}={3}\".format(f_num,s_num,sums,diffs))\n",
        "\n",
        "## The float() function also exists! You can try this if your input is expecting\n",
        "## a decimal value"
      ],
      "metadata": {
        "id": "hRXqR1YYELp6"
      },
      "execution_count": null,
      "outputs": []
    },
    {
      "cell_type": "markdown",
      "source": [
        "## 1.2 Intermediate Arithmetic\n",
        "Now let's try to do some intermediate math with Python. In Python, this would be easier to do compared to other programming languages however computing speed will be relatively slower compared to other languages like C and C++. For this section we will just tackle:\n",
        "* Floor Division\n",
        "* Modulo\n",
        "* Exponentiation"
      ],
      "metadata": {
        "id": "43Pd-wfatDKx"
      }
    },
    {
      "cell_type": "code",
      "source": [
        "# @title Floor Division \n",
        "# @markdown In comparsion with regular division we are taking its whole number part by automatically rounding it up with the nearest ones place value. However, the output would now be an integer.\n",
        "\n",
        "num3 = 20 \n",
        "num4 = 7 \n",
        "\n",
        "print(\"Regular division: \\n{}/{} = {}\".format(num3, num4, num3/num4)) \n",
        "print(\"Floor division: \\n{}/{} = {}\".format(num3, num4, num3//num4)) "
      ],
      "metadata": {
        "id": "f4ENMzFf__fz",
        "outputId": "ba167e5d-25e9-42df-d4b2-c60250c689cc",
        "colab": {
          "base_uri": "https://localhost:8080/"
        }
      },
      "execution_count": 3,
      "outputs": [
        {
          "output_type": "stream",
          "name": "stdout",
          "text": [
            "Regular division: \n",
            "10/5 = 2.0\n",
            "Floor division: \n",
            "10/5 = 2\n"
          ]
        }
      ]
    },
    {
      "cell_type": "code",
      "source": [
        "# @title Modulo\n",
        "# @markdown The modulo operation does a division operation but only outputs the remainder of the operation. This could be useful\n",
        "print(num3%num4)"
      ],
      "metadata": {
        "id": "Z1jVkl9g_b7q",
        "outputId": "58ff6414-a420-42e5-90e1-dab7d104309d",
        "colab": {
          "base_uri": "https://localhost:8080/"
        }
      },
      "execution_count": null,
      "outputs": [
        {
          "output_type": "stream",
          "name": "stdout",
          "text": [
            "3\n"
          ]
        }
      ]
    },
    {
      "cell_type": "code",
      "source": [
        "# @markdown One good use of the modulo operation is checking for divisibility if the result of the modulo is 0 that means the dividend is divisible to the divisor.\n",
        "dividend = 36\n",
        "# dividend = 40\n",
        "divisor = 6 \n",
        "print(dividend % divisor)"
      ],
      "metadata": {
        "colab": {
          "base_uri": "https://localhost:8080/"
        },
        "id": "dg57Jtq5McXL",
        "outputId": "f2edd3e8-fb8c-4a12-e914-7ac9394420f4"
      },
      "execution_count": 5,
      "outputs": [
        {
          "output_type": "stream",
          "name": "stdout",
          "text": [
            "4\n"
          ]
        }
      ]
    },
    {
      "cell_type": "code",
      "source": [
        "## Now if you want to do the regular division with remainders you can\n",
        "## combine the floor division and modulo operation together.\n",
        "whole_num = num3//num4\n",
        "remainder = num3%num4\n",
        "print(\"{}÷{}={}R{}\".format(num3, num4, whole_num, remainder))"
      ],
      "metadata": {
        "id": "q9GX7tZVBGIC",
        "outputId": "40596a07-121b-4c2c-f873-3a8b25784e6c",
        "colab": {
          "base_uri": "https://localhost:8080/"
        }
      },
      "execution_count": null,
      "outputs": [
        {
          "output_type": "stream",
          "name": "stdout",
          "text": [
            "10÷7=1R3\n"
          ]
        }
      ]
    },
    {
      "cell_type": "code",
      "source": [
        "# @title Exponentiation\n",
        "#@markdown Exponents are prevalent in non-linear tasks such as quadratic behavior and most trends in real-world analytics. Exponentiation is also accessible in Python by making it part of the in-line equation programming.\n",
        "\n",
        "base = 10\n",
        "power = 2\n",
        "\n",
        "print(base**power)  ## instead of using the caret \"^\" symbol\n",
        "                    ## we will use double asterisks \"**\" for exponentiation."
      ],
      "metadata": {
        "id": "wlsnbBg2_ORD",
        "outputId": "bcc5c1be-f82a-4dcd-cb99-56bcf7f33011",
        "colab": {
          "base_uri": "https://localhost:8080/"
        }
      },
      "execution_count": null,
      "outputs": [
        {
          "output_type": "stream",
          "name": "stdout",
          "text": [
            "100\n"
          ]
        }
      ]
    },
    {
      "cell_type": "code",
      "source": [
        "#@markdown If you are into math you would recall that roots of numbers can also be represented as exponents. We can use that logic in programming as well.\n",
        "\n",
        "squared = 25\n",
        "\n",
        "sq_root = 25**(1/2)\n",
        "print(\"The square root of {} is {}\".format(squared, sq_root))"
      ],
      "metadata": {
        "id": "G_Lt1sAgBzhz",
        "outputId": "6af6c24f-4fd4-4696-954a-0de5dbf141a1",
        "colab": {
          "base_uri": "https://localhost:8080/"
        }
      },
      "execution_count": null,
      "outputs": [
        {
          "output_type": "stream",
          "name": "stdout",
          "text": [
            "The square root of 25 is 5.0\n"
          ]
        }
      ]
    },
    {
      "cell_type": "code",
      "source": [
        "# @title Equation Modelling in Python\n",
        "#@markdown You can use Python in coding mathematics! We can try to transcribe equations quickly. Take this equation for example $$F = G\\frac{m_1m_2}{r^2}$$ If you have done some physics before, this is the Universal law of gravitation where:\n",
        "#@markdown  * $F$ is the force between two objects;\n",
        "#@markdown  * $G$ is the universal gravitational constant;\n",
        "#@markdown  * $m_1$ is the mass of the first object;\n",
        "#@markdown  * $m_2$ is the mass of the second object; and\n",
        "#@markdown  * $r$ is the distance between the two objects\n",
        "\n",
        "G = 6.67e10-11\n",
        "m1 = 5.972e24 \n",
        "m2 = 7.348e22 \n",
        "r = 3.84e8 \n",
        "\n",
        "F = G*(m1*m2)/r**2\n",
        "\n",
        "print(\"The force is {:.3e} N.\" .format(F))\n",
        "## We used .3e instead of .3f since we want to use \n",
        "## scientific notation. \n",
        "## You can try .3f is you want to see the difference!"
      ],
      "metadata": {
        "id": "UDgZxpIy9wsq"
      },
      "execution_count": null,
      "outputs": []
    },
    {
      "cell_type": "markdown",
      "source": [
        "## 1.3 Arithmetic Assignment\n",
        "In advanced cases, you might need to do compound operations with your variables. A common compound operation is recurrent arithmetic. This is done by adding a value to a variable and re-storing that in the same variable. This could be observed in some tasks such as:\n",
        "* Increments\n",
        "* Decrements\n",
        "* Exponetial Growth\n",
        "* Exponential Decay"
      ],
      "metadata": {
        "id": "uSzBWt4jtH0p"
      }
    },
    {
      "cell_type": "code",
      "source": [
        "# @title Increments\n",
        "# @markdown To start increment routines, we need to identify two main items. First is the base value or the starting number. The second is the increment value.\n",
        "\n",
        "inc_total = 0 ## starting value\n",
        "inc_const = 1"
      ],
      "metadata": {
        "id": "3EHWEPtrFJAh"
      },
      "execution_count": null,
      "outputs": []
    },
    {
      "cell_type": "code",
      "source": [
        "#@markdown This is the usual form that people might think when operating with a variable and then storing it back as a new number. In standard notation it would look like: $$ var_{new} = var_{old} + C$$ Where $var$ is just any variable and $C$ would be any constant.\n",
        "\n",
        "inc_total = inc_total + inc_const\n",
        "print(inc_total)"
      ],
      "metadata": {
        "id": "CVQUqEixFhWD"
      },
      "execution_count": null,
      "outputs": []
    },
    {
      "cell_type": "code",
      "source": [
        "#@markdown However, we can simplify this in programming by using the arithmetic assignment. But first, we need to re-initialize our variables so they won't add up with the previous incremental sum.\n",
        "inc_const = 1\n",
        "inc_total = 0"
      ],
      "metadata": {
        "id": "A6I3j1E2FlyK"
      },
      "execution_count": null,
      "outputs": []
    },
    {
      "cell_type": "code",
      "source": [
        "inc_total += inc_const ## we can just use the \"+=\" operator to automatically assign the values.\n",
        "print(inc_total)"
      ],
      "metadata": {
        "id": "M4RuHPGUFgPy"
      },
      "execution_count": null,
      "outputs": []
    },
    {
      "cell_type": "code",
      "source": [
        "# @title Decrement\n",
        "# @markdown Just like increments, we need to declare the starting value for a decrement routine as well as the decrement constant.\n",
        "dec_const = 1\n",
        "dec_total = 100"
      ],
      "metadata": {
        "id": "GRhtW5_tFwnK"
      },
      "execution_count": null,
      "outputs": []
    },
    {
      "cell_type": "code",
      "source": [
        "dec_total -= dec_const ## just like in increments, you can just use \"-=\" as a decrement operator"
      ],
      "metadata": {
        "id": "ZnUliNTeF3P5"
      },
      "execution_count": null,
      "outputs": []
    },
    {
      "cell_type": "code",
      "source": [
        "#@title Exponential growth/decay\n",
        "#@markdown Increments or decrements are linear in nature, it means that if you try to plot the values from an increment/decrement routine it will look like a line. In some cases, non-linear or exponential growth/decay may happen. This done when you continuously multiply or divide a constant to a variable.\n",
        "exp_const = 2.0\n",
        "exp_growth = 1.0\n",
        "exp_decay = 1024.00"
      ],
      "metadata": {
        "id": "dpP_Lzt5GGGy"
      },
      "execution_count": 23,
      "outputs": []
    },
    {
      "cell_type": "code",
      "source": [
        "exp_growth *= exp_const\n",
        "exp_decay /= exp_const\n",
        "\n",
        "print(exp_growth)\n",
        "print(exp_decay)"
      ],
      "metadata": {
        "id": "F7ck6f4FGzJy"
      },
      "execution_count": null,
      "outputs": []
    },
    {
      "cell_type": "markdown",
      "source": [
        "# Part 2: Comparison Operations\n",
        "Comparison operators or comparators are also vital in the logical design of programs. These operations compare values whether they are:\n",
        "* Equal\n",
        "* Identical\n",
        "* Greater than\n",
        "* Less than\n",
        "* Not equal\n",
        "\n",
        "The output of any logical operation such as with comparators would be Truth Values or Boolean. Meaning, the results could only be either True or False.  "
      ],
      "metadata": {
        "id": "7zAZ_w0vtwex"
      }
    },
    {
      "cell_type": "markdown",
      "source": [
        "## 2.1 Equalities and Identities\n",
        "It is essential to check whether values are equal to each other especially in validation routines in programming. However, equality and indentity are not the same in programmming. **Equality** means that values are just the same. While **identity** means that values and data types are also the same."
      ],
      "metadata": {
        "id": "JSJRNCjlt0jy"
      }
    },
    {
      "cell_type": "code",
      "source": [
        "## Let's take these values as samples\n",
        "value_1 = 3\n",
        "value_2 = 2\n",
        "value_3 = 3.0"
      ],
      "metadata": {
        "id": "Hge_Bk5PHQdq"
      },
      "execution_count": 31,
      "outputs": []
    },
    {
      "cell_type": "code",
      "source": [
        "## Equality\n",
        "print(value_1 == value_2) ## this would obviously not be equal\n",
        "print(value_1 == value_3) ## these would be equal in value"
      ],
      "metadata": {
        "id": "1Kbzt1HqHYhM",
        "outputId": "9213b5e6-96ae-45b4-935f-d0a116bcf796",
        "colab": {
          "base_uri": "https://localhost:8080/"
        }
      },
      "execution_count": null,
      "outputs": [
        {
          "output_type": "stream",
          "name": "stdout",
          "text": [
            "False\n",
            "True\n"
          ]
        }
      ]
    },
    {
      "cell_type": "code",
      "source": [
        "## Identity\n",
        "print(value_1 is value_2)\n",
        "print(value_1 is value_3) ## this will now be False since their data types are different"
      ],
      "metadata": {
        "id": "QVBLOIN6JZsR",
        "outputId": "1fa77e35-5643-40d2-a450-5991d6f8d758",
        "colab": {
          "base_uri": "https://localhost:8080/"
        }
      },
      "execution_count": null,
      "outputs": [
        {
          "output_type": "stream",
          "name": "stdout",
          "text": [
            "False\n",
            "False\n"
          ]
        }
      ]
    },
    {
      "cell_type": "code",
      "source": [
        "## Try your own values out!\n",
        "x = 1 # @param\n",
        "y = \"1\" # @param\n",
        "print(x==y)"
      ],
      "metadata": {
        "id": "bwk_FdH2cOfG",
        "outputId": "6f0babb8-2dd4-4476-dcee-2ad7ca13d169",
        "colab": {
          "base_uri": "https://localhost:8080/"
        }
      },
      "execution_count": 29,
      "outputs": [
        {
          "output_type": "stream",
          "name": "stdout",
          "text": [
            "False\n"
          ]
        }
      ]
    },
    {
      "cell_type": "markdown",
      "source": [
        "## 2.2 Inequalities\n",
        "Inquality operators span a large concept. It is not only being a match but also determining range. Inequalities could include:\n",
        "* Non-equality\n",
        "* Greater than\n",
        "* Less than"
      ],
      "metadata": {
        "id": "mS78YGaxt30R"
      }
    },
    {
      "cell_type": "code",
      "source": [
        "# @title Non-equality\n",
        "# @markdown Non-equality is a basic comparison of not being equal to each other. It can be represented using the \"!=\" comparator. The exclamation point in programming is generally accepted as a symbol of negation. So in a sense it is read as \"not equal\".\n",
        "\n",
        "print(value_1 != value_2)\n",
        "print(value_1 != value_3)"
      ],
      "metadata": {
        "id": "gD5TqyzfLEK5",
        "outputId": "9375ebc1-1489-4b39-ba6c-df461958cfb4",
        "colab": {
          "base_uri": "https://localhost:8080/"
        }
      },
      "execution_count": 32,
      "outputs": [
        {
          "output_type": "stream",
          "name": "stdout",
          "text": [
            "True\n",
            "False\n"
          ]
        }
      ]
    },
    {
      "cell_type": "code",
      "source": [
        "# @title Greater than\n",
        "# @markdown Extending inequalites, the greater than comparator checks whether the left hand variable is greater than the right-hand variable.\n",
        "print(value_1 > value_2)\n",
        "print(value_1 > value_3)"
      ],
      "metadata": {
        "id": "ARbqYbASKi7z",
        "outputId": "87a34e38-c4f6-4327-8b42-782e5537c154",
        "colab": {
          "base_uri": "https://localhost:8080/"
        }
      },
      "execution_count": null,
      "outputs": [
        {
          "output_type": "stream",
          "name": "stdout",
          "text": [
            "True\n",
            "False\n"
          ]
        }
      ]
    },
    {
      "cell_type": "code",
      "source": [
        "# @title Greater than or Equal\n",
        "# @markdown If you wish to include the right-hand variable in the range of comparison just add the equals symbol to make it \">=\". This means that the left-hand variable is greater than or equal to the right-hand variable. In math, you might see this as the $\\geq$ symbol.\n",
        "\n",
        "print(value_1 >= value_2)\n",
        "print(value_1 >= value_3)"
      ],
      "metadata": {
        "id": "QrWaRxwpK4XJ",
        "outputId": "55ab2ee3-cac1-4629-a6d1-026c9c9d9310",
        "colab": {
          "base_uri": "https://localhost:8080/"
        }
      },
      "execution_count": null,
      "outputs": [
        {
          "output_type": "stream",
          "name": "stdout",
          "text": [
            "True\n",
            "True\n"
          ]
        }
      ]
    },
    {
      "cell_type": "code",
      "source": [
        "# @title Less Than\n",
        "# @markdown The less than \"<\" comparator checks whether left-hand variable is smaller the right-hand variable.\n",
        "print(value_1 < value_2)\n",
        "print(value_2 < value_3)"
      ],
      "metadata": {
        "id": "JH1OM5WLKq4r",
        "outputId": "24aee658-8b68-45a5-a937-90f90ef90e41",
        "colab": {
          "base_uri": "https://localhost:8080/"
        }
      },
      "execution_count": 33,
      "outputs": [
        {
          "output_type": "stream",
          "name": "stdout",
          "text": [
            "False\n",
            "True\n"
          ]
        }
      ]
    },
    {
      "cell_type": "code",
      "source": [
        "# @title Less than or Equal\n",
        "# @markdown If you wish to include the right-hand variable in the range of comparison just add the equals symbol to make it \"<=\". This means that the left-hand variable is less than or equal to the right-hand variable. In math, you might see this as the $\\leq$ symbol.\n",
        "\n",
        "print(value_1 <= value_2)\n",
        "print(value_2 <= value_3)"
      ],
      "metadata": {
        "id": "jru6Umq3K-kz",
        "outputId": "08a33365-530f-4a9a-e062-7b0c49624491",
        "colab": {
          "base_uri": "https://localhost:8080/"
        }
      },
      "execution_count": 34,
      "outputs": [
        {
          "output_type": "stream",
          "name": "stdout",
          "text": [
            "False\n",
            "True\n"
          ]
        }
      ]
    },
    {
      "cell_type": "markdown",
      "source": [
        "# Part 3: Logical Operations\n",
        "We now move towards to structuring the logic of the program. Here, we will use logical operations to compare different logical statements and comparisons. These are also call propositional logic operations but we'll just call them logical operations for brevity."
      ],
      "metadata": {
        "id": "CoOMzywLs4QJ"
      }
    },
    {
      "cell_type": "markdown",
      "source": [
        "## 3.1 Negation (NOT Operation)\n",
        "The negation operation just reverses the logic of the boolean values. Whatever that is `False` would be `True` and what is `True` to be `False`."
      ],
      "metadata": {
        "id": "mleZe2XOtRox"
      }
    },
    {
      "cell_type": "code",
      "source": [
        "## Just use the not() function to negate the values.\n",
        "print(not(bool1))\n",
        "print(not(bool2))"
      ],
      "metadata": {
        "id": "hE6xD3ptLxHq",
        "outputId": "45a9cc61-d42c-43b6-e97f-57f6c3e301ac",
        "colab": {
          "base_uri": "https://localhost:8080/"
        }
      },
      "execution_count": null,
      "outputs": [
        {
          "output_type": "stream",
          "name": "stdout",
          "text": [
            "False\n",
            "True\n"
          ]
        }
      ]
    },
    {
      "cell_type": "code",
      "source": [
        "## Let's look an example where we would use comparators and logical operations together\n",
        "passing = 50\n",
        "my_score = 75\n",
        "is_pass = my_score >= passing\n",
        "print(\"Is score {} greater or equal than the passing {}?\\nPass: {}\\n\".format(passing, my_score, is_pass))\n",
        "print(\"Is score {} less than the passing {}?\\nFail: {}\\n\".format(passing, my_score, not(is_pass)))"
      ],
      "metadata": {
        "id": "8nZ3K3W4L3QE",
        "outputId": "05449d71-c8a1-4c4a-8b0e-848916e42649",
        "colab": {
          "base_uri": "https://localhost:8080/"
        }
      },
      "execution_count": null,
      "outputs": [
        {
          "output_type": "stream",
          "name": "stdout",
          "text": [
            "Is score 50 greater or equal than the passing 75?\n",
            "Pass: True\n",
            "\n",
            "Is score 50 less than the passing 75?\n",
            "Fail: False\n",
            "\n"
          ]
        }
      ]
    },
    {
      "cell_type": "markdown",
      "source": [
        "## 3.2 Conjuction (AND Operation)\n",
        "The conjuction operation or simply the **and** operation requires a minimum of two boolean values to start the comparison. The **and** operation would only result to `True` when all of the boolean values to compare is also `True`."
      ],
      "metadata": {
        "id": "0TB5VXcjteB5"
      }
    },
    {
      "cell_type": "code",
      "source": [
        "## Here is what we call a Truth Table.\n",
        "## x and y are the inputs for a 2-value comparison\n",
        "print(\"| x\\t| y\\t| x AND y\")\n",
        "print(\"| {}\\t| {}\\t| {}\".format(True, True, True and True))\n",
        "print(\"| {}\\t| {}\\t| {}\".format(True, False, True and False))\n",
        "print(\"| {}\\t| {}\\t| {}\".format(False, True, False and True))\n",
        "print(\"| {}\\t| {}\\t| {}\".format(False, False, False and False))"
      ],
      "metadata": {
        "id": "vPBH4WTLM2di",
        "outputId": "94d7c004-709e-4a1b-ce2a-c0943c27e5de",
        "colab": {
          "base_uri": "https://localhost:8080/"
        }
      },
      "execution_count": null,
      "outputs": [
        {
          "output_type": "stream",
          "name": "stdout",
          "text": [
            "| x\t| y\t| x AND y\n",
            "| True\t| True\t| True\n",
            "| True\t| False\t| False\n",
            "| False\t| True\t| False\n",
            "| False\t| False\t| False\n"
          ]
        }
      ]
    },
    {
      "cell_type": "markdown",
      "source": [
        "**Let's have an example**\n",
        "\n",
        "You were tasked to create a piece of code that would validate the order of a customer. There are three (3) choices of Set Meals: A, B, and C. Then there are four (4) choices of drinks: 1, 2, 3, and 4. The customer ordered Set Meal B **and** drink option 1."
      ],
      "metadata": {
        "id": "YoJ0fUIFkktP"
      }
    },
    {
      "cell_type": "code",
      "source": [
        "ordered_meal = 'B'\n",
        "ordered_drinks = '1'\n",
        "\n",
        "delivered_meal = 'B'\n",
        "delivered_drinks = '2'\n",
        "\n",
        "purchase = (ordered_meal == delivered_meal) and (ordered_drinks == delivered_drinks)\n",
        "print(\"The purchase was successful: {}\".format(purchase))"
      ],
      "metadata": {
        "id": "85lE1DrAQ1G6",
        "outputId": "04991a16-1520-4319-8e3f-6a6c090cc4e5",
        "colab": {
          "base_uri": "https://localhost:8080/"
        }
      },
      "execution_count": null,
      "outputs": [
        {
          "output_type": "stream",
          "name": "stdout",
          "text": [
            "The purchase was successful: False\n"
          ]
        }
      ]
    },
    {
      "cell_type": "markdown",
      "source": [
        "## 3.3 Disjunction (OR Operation)\n",
        "The disjuction operation or simply the **or** operation requires a minimum of two boolean values to start the comparison. The **or** operation would result to `True` when any of the boolean values to compare is `True`."
      ],
      "metadata": {
        "id": "krQckcqhtgu0"
      }
    },
    {
      "cell_type": "code",
      "execution_count": null,
      "metadata": {
        "id": "P_123tCQsYIs",
        "outputId": "927a542a-3189-43d1-ed77-76ec05f2313d",
        "colab": {
          "base_uri": "https://localhost:8080/"
        }
      },
      "outputs": [
        {
          "output_type": "stream",
          "name": "stdout",
          "text": [
            "| x\t| y\t| x AND y\n",
            "| True\t| True\t| True\n",
            "| True\t| False\t| True\n",
            "| False\t| True\t| True\n",
            "| False\t| False\t| False\n"
          ]
        }
      ],
      "source": [
        "## Here is the truth table for an OR operation\n",
        "print(\"| x\\t| y\\t| x OR y\")\n",
        "print(\"| {}\\t| {}\\t| {}\".format(True, True, True or True))\n",
        "print(\"| {}\\t| {}\\t| {}\".format(True, False, True or False))\n",
        "print(\"| {}\\t| {}\\t| {}\".format(False, True, False or True))\n",
        "print(\"| {}\\t| {}\\t| {}\".format(False, False, False or False))"
      ]
    },
    {
      "cell_type": "markdown",
      "source": [
        "**Let's have an example**\n",
        "\n",
        "You were tasked to create a piece of code that would validate the suggestion of a movie recommender. The users would mention their preferences for their movies, such as the movie's duration and genre. Customers would usually like suggestions from **any** of their choices.\n"
      ],
      "metadata": {
        "id": "h6qZ2rzklh7Y"
      }
    },
    {
      "cell_type": "code",
      "source": [
        "pref_time = \"short\"\n",
        "pref_genre = \"horror\"\n",
        "\n",
        "recom_time = \"long\"\n",
        "recom_genre = \"horror\"\n",
        "\n",
        "match = (pref_time == recom_time) or (pref_genre == recom_genre)\n",
        "print(\"Was the recommendation useful? {}\".format(match))"
      ],
      "metadata": {
        "id": "27d4uXC8R6wT",
        "outputId": "01ff1776-bc44-40ff-b32e-ed82487a52b5",
        "colab": {
          "base_uri": "https://localhost:8080/"
        }
      },
      "execution_count": null,
      "outputs": [
        {
          "output_type": "stream",
          "name": "stdout",
          "text": [
            "Was the recommendation useful? True\n"
          ]
        }
      ]
    },
    {
      "cell_type": "markdown",
      "source": [
        "# Summary"
      ],
      "metadata": {
        "id": "oxxT8czquCPR"
      }
    },
    {
      "cell_type": "markdown",
      "source": [
        "# Additional Readings"
      ],
      "metadata": {
        "id": "3PNot65yuDHC"
      }
    }
  ]
}