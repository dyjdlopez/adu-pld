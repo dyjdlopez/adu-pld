{
  "nbformat": 4,
  "nbformat_minor": 0,
  "metadata": {
    "colab": {
      "name": "pld-04.ipynb",
      "provenance": [],
      "authorship_tag": "ABX9TyMC1VEgC3BdM+BBJphdGIuY",
      "include_colab_link": true
    },
    "kernelspec": {
      "name": "python3",
      "display_name": "Python 3"
    },
    "language_info": {
      "name": "python"
    }
  },
  "cells": [
    {
      "cell_type": "markdown",
      "metadata": {
        "id": "view-in-github",
        "colab_type": "text"
      },
      "source": [
        "<a href=\"https://colab.research.google.com/github/dyjdlopez/adu-pld/blob/main/lab-notes/pld_04.ipynb\" target=\"_parent\"><img src=\"https://colab.research.google.com/assets/colab-badge.svg\" alt=\"Open In Colab\"/></a>"
      ]
    },
    {
      "cell_type": "markdown",
      "metadata": {
        "id": "73pIX3qrBz36"
      },
      "source": [
        "# Input and Output Operations\n",
        "---\n",
        "$_{\\text{© Project Alexandria | 2021 | Programming Logic and Design}}$"
      ]
    },
    {
      "cell_type": "code",
      "metadata": {
        "id": "5GxUIKGtBwLa"
      },
      "source": [
        "#@title Licensed under the Apache License, Version 2.0 (the \"License\");\n",
        "# you may not use this file except in compliance with the License.\n",
        "# You may obtain a copy of the License at\n",
        "#\n",
        "# https://www.apache.org/licenses/LICENSE-2.0\n",
        "#\n",
        "# Unless required by applicable law or agreed to in writing, software\n",
        "# distributed under the License is distributed on an \"AS IS\" BASIS,\n",
        "# WITHOUT WARRANTIES OR CONDITIONS OF ANY KIND, either express or implied.\n",
        "# See the License for the specific language governing permissions and\n",
        "# limitations under the License."
      ],
      "execution_count": null,
      "outputs": []
    },
    {
      "cell_type": "markdown",
      "metadata": {
        "id": "_TljA9kxB-Fa"
      },
      "source": [
        "In programming or any systems development we tend to refer to the IPO (Input-Process-Output) Model (see figure below) when we conceptualize about the process of the automation that we will do.\n",
        "![image](https://external-content.duckduckgo.com/iu/?u=https%3A%2F%2Fwww.qmswrapper.com%2Ffiles%2FPictures%2Fblog%2Froles-0.jpg&f=1&nofb=1)\n",
        "\n",
        "A computer program starts with the **Input** block where it is expecting something from us or from its environment. It then **processes** that input through several phases of encoding, translating, and digitization through the compiler and other sub-processes. After processing the input data it then spits out an **output**. Outputs could either be a form of data or a reaction of a program (we also call it a response). You can also think about the IPO model in any process just like digestion wherein you intake food 🍕 process it with you digestive system 🧪 and produces into some form of energy 💪. In this notebook, we will demonstrate the input and output routines in Python.\n",
        "\n",
        "---"
      ]
    },
    {
      "cell_type": "markdown",
      "metadata": {
        "id": "og73NFaDFjha"
      },
      "source": [
        "# Part 1: The `print()` function\n",
        "The print function is another fundamental function in Python programming. When we talk of functions these are commands pre-made by other developers to do something. A function is a perfect example for the IPO model. You might notice that the `print()` function has the word part and also a pair of parentheses after. The parameters that the `print()` function accepts by default is a string. "
      ]
    },
    {
      "cell_type": "markdown",
      "metadata": {
        "id": "8t5v2l7Ww1LV"
      },
      "source": [
        "### 1.1 Using the `print()` function"
      ]
    },
    {
      "cell_type": "code",
      "metadata": {
        "id": "Va5XfGdMFlQI"
      },
      "source": [
        "print(\"Hello World!\")"
      ],
      "execution_count": null,
      "outputs": []
    },
    {
      "cell_type": "code",
      "metadata": {
        "id": "Me8dqEWDFmWp"
      },
      "source": [
        "#@title Try out the print function\n",
        "#Put something in between the parenthesis\n",
        "print()"
      ],
      "execution_count": null,
      "outputs": []
    },
    {
      "cell_type": "markdown",
      "metadata": {
        "id": "FdL4S_qww6F9"
      },
      "source": [
        "### 1.2 Multiple Data Types\n",
        "\n",
        "You might also need to display text that uses different data types or even from your own variables. The `print()` function can also accomplish this task by just adding another parameter."
      ]
    },
    {
      "cell_type": "code",
      "metadata": {
        "id": "hwg_dWi5wzus",
        "colab": {
          "base_uri": "https://localhost:8080/"
        },
        "outputId": "d2383f7b-9137-4ad4-cd87-0dcf45b2d094"
      },
      "source": [
        "## You can try to combine an additional string after the text you set\n",
        "name = \"Joe\"\n",
        "print(\"Hello\",name)"
      ],
      "execution_count": 4,
      "outputs": [
        {
          "output_type": "stream",
          "name": "stdout",
          "text": [
            "Hello Joe\n"
          ]
        }
      ]
    },
    {
      "cell_type": "code",
      "source": [
        "## You can also format your text with more variables!\n",
        "age = 18\n",
        "print(name,\"'s age is\",age)"
      ],
      "metadata": {
        "colab": {
          "base_uri": "https://localhost:8080/"
        },
        "id": "ai-eAnfsU6A1",
        "outputId": "6a85c9a0-faa2-47c5-c14a-d59af53b0ff6"
      },
      "execution_count": 5,
      "outputs": [
        {
          "output_type": "stream",
          "name": "stdout",
          "text": [
            "Joe 's age is 18\n"
          ]
        }
      ]
    },
    {
      "cell_type": "markdown",
      "metadata": {
        "id": "TaGNO0w3xALd"
      },
      "source": [
        "### 1.3 Using the format() function\n",
        "If you are particular with format you might notice that gap from the name with the apostrophe \"s\". That is a minor limitation of using comma delimiters in the `print()` function. This can be solved by using the string `format()` function. Given a string, you can fill in the blanks with a more structured formatting. \n",
        "\n",
        "---\n",
        "\n",
        "Syntax:\n",
        "\n",
        "`\"main string {}\".format(string)`\n",
        "\n",
        "The main string is just any `string` data. You might notice the  the curly braces `{}` in the string. This is what we call a *placeholder*. A placeholder is like the blank in a fill-in-the-blank test then you fill them out using the contents of the `format()` function after the string."
      ]
    },
    {
      "cell_type": "code",
      "source": [
        "print(\"My age is {}\".format(age))"
      ],
      "metadata": {
        "colab": {
          "base_uri": "https://localhost:8080/"
        },
        "id": "liZJUJtGyGTK",
        "outputId": "a98e7c1b-685d-4767-ecea-12c5b372f565"
      },
      "execution_count": 23,
      "outputs": [
        {
          "output_type": "stream",
          "name": "stdout",
          "text": [
            "My age is 18\n"
          ]
        }
      ]
    },
    {
      "cell_type": "code",
      "metadata": {
        "id": "wmJ2zdzAxWKr",
        "colab": {
          "base_uri": "https://localhost:8080/"
        },
        "outputId": "f3e264ba-e76c-4e5b-bd18-38674f1f10af"
      },
      "source": [
        "## You can add more placeholders in a string formatter\n",
        "## Just make sure that the number of placeholders are the same with the\n",
        "## number of parameters in your format() function.\n",
        "\n",
        "print(\"{}'s age is {}\".format(name, age))\n",
        "\n",
        "## The order at which the parameters appear in the text will just\n",
        "## follow the precedence of how you mentioned it in the function"
      ],
      "execution_count": 6,
      "outputs": [
        {
          "output_type": "stream",
          "name": "stdout",
          "text": [
            "Joe's age is 18\n"
          ]
        }
      ]
    },
    {
      "cell_type": "code",
      "source": [
        "## Although you can overwrite them by specifying the number inside the placeholer\n",
        "year = 2003\n",
        "month = 10\n",
        "day = 6\n",
        "print(\"My birthday is on {1}/{0}/{2}\".format(month,day,year)) "
      ],
      "metadata": {
        "colab": {
          "base_uri": "https://localhost:8080/"
        },
        "id": "csQrJDEQV7fy",
        "outputId": "df6a2c60-7ece-48a6-e252-d2ed921da129"
      },
      "execution_count": 24,
      "outputs": [
        {
          "output_type": "stream",
          "name": "stdout",
          "text": [
            "My birthday is on 6/10/2003\n"
          ]
        }
      ]
    },
    {
      "cell_type": "markdown",
      "source": [
        "You can also format numbers using the `format()` function. The examples below can help readability better."
      ],
      "metadata": {
        "id": "ht849zHEy2eE"
      }
    },
    {
      "cell_type": "code",
      "source": [
        "ph_population = 109581078\n",
        "print(\"The current population of the Philippines is {}.\".format(ph_population))"
      ],
      "metadata": {
        "colab": {
          "base_uri": "https://localhost:8080/"
        },
        "id": "PIm2ipbrXN6Q",
        "outputId": "609c26ae-7fed-4103-bc3e-0f7f4949e7bd"
      },
      "execution_count": 25,
      "outputs": [
        {
          "output_type": "stream",
          "name": "stdout",
          "text": [
            "The current population of the Philippines is 109581078.\n"
          ]
        }
      ]
    },
    {
      "cell_type": "code",
      "source": [
        "## The population above is hard to read, we can't easily determine the place values\n",
        "## of the figure. We can fix this by adding \":,\" inside the placeholder.\n",
        "print(\"The current population of the Philippines is {:,}.\".format(ph_population))"
      ],
      "metadata": {
        "colab": {
          "base_uri": "https://localhost:8080/"
        },
        "id": "4Cub0sv0zBTJ",
        "outputId": "9f875be4-b649-473d-a87f-37aa0a906d21"
      },
      "execution_count": 26,
      "outputs": [
        {
          "output_type": "stream",
          "name": "stdout",
          "text": [
            "The current population of the Philippines is 109,581,078.\n"
          ]
        }
      ]
    },
    {
      "cell_type": "code",
      "source": [
        "## You might also want to format floats with specified decimal places.\n",
        "## Consider the percent population of the seniors below.\n",
        "\n",
        "ph_seniors = 6.778204\n",
        "print(\"The Philippines' Senior citizens are {:.2f}% of the population.\".format(ph_seniors))\n",
        "\n",
        "## If you want to specify the number of decimal places you can add \":.#f\" inside\n",
        "## your placeholder. Note that # should be replaced to the number of decimal\n",
        "## values you want for the number."
      ],
      "metadata": {
        "colab": {
          "base_uri": "https://localhost:8080/"
        },
        "id": "7VxgnvogWpWz",
        "outputId": "1be89beb-ac7a-47b2-ffe3-6f28f51d0e10"
      },
      "execution_count": 27,
      "outputs": [
        {
          "output_type": "stream",
          "name": "stdout",
          "text": [
            "The Philippines' Senior citizens are 6.78% of the population.\n"
          ]
        }
      ]
    },
    {
      "cell_type": "markdown",
      "source": [
        "### 1.4 Backslash Characters"
      ],
      "metadata": {
        "id": "DsBAJyfNVCeL"
      }
    },
    {
      "cell_type": "code",
      "source": [
        "## New line\n",
        "print(\"First Line \\nA New Line\")"
      ],
      "metadata": {
        "colab": {
          "base_uri": "https://localhost:8080/"
        },
        "id": "XBIysXVbVCD7",
        "outputId": "13d7861a-e7d6-4a52-a085-1d848079b7cf"
      },
      "execution_count": 16,
      "outputs": [
        {
          "output_type": "stream",
          "name": "stdout",
          "text": [
            "First Line \n",
            "A New Line\n"
          ]
        }
      ]
    },
    {
      "cell_type": "code",
      "source": [
        "## Horizontal Tabulation\n",
        "print(\"First word\\tTabbed Word\")"
      ],
      "metadata": {
        "colab": {
          "base_uri": "https://localhost:8080/"
        },
        "id": "I7-9ZPOfrOdU",
        "outputId": "99bcc4d9-c15e-4e5c-de42-78cc8733709c"
      },
      "execution_count": 15,
      "outputs": [
        {
          "output_type": "stream",
          "name": "stdout",
          "text": [
            "First word\tTabbed Word\n"
          ]
        }
      ]
    },
    {
      "cell_type": "code",
      "source": [
        "## Quotation Marks\n",
        "print(\"She said \"Python is Great!\"\")"
      ],
      "metadata": {
        "id": "ZztHA1fKuokt"
      },
      "execution_count": null,
      "outputs": []
    },
    {
      "cell_type": "code",
      "source": [
        "## Quotation Marks\n",
        "print(\"\\\"Double Quotes\\\"\")\n",
        "print('\\'Single Quotes\\'')"
      ],
      "metadata": {
        "colab": {
          "base_uri": "https://localhost:8080/"
        },
        "id": "JGpnFrierj25",
        "outputId": "bdcc15e4-fa2b-4123-b282-964df0c7f5ff"
      },
      "execution_count": 18,
      "outputs": [
        {
          "output_type": "stream",
          "name": "stdout",
          "text": [
            "\"Double Quotes\"\n",
            "'Single Quotes'\n"
          ]
        }
      ]
    },
    {
      "cell_type": "markdown",
      "metadata": {
        "id": "-3fSFIZRwli-"
      },
      "source": [
        "# Part 2: The `input()` Function"
      ]
    },
    {
      "cell_type": "code",
      "metadata": {
        "id": "oHY14KTKwuI8",
        "colab": {
          "base_uri": "https://localhost:8080/",
          "height": 54
        },
        "outputId": "9be99e70-6cc8-45c5-fce7-f2dc035bdb34"
      },
      "source": [
        "input(\"Enter a number: \")"
      ],
      "execution_count": 19,
      "outputs": [
        {
          "name": "stdout",
          "output_type": "stream",
          "text": [
            "Enter a number:9\n"
          ]
        },
        {
          "output_type": "execute_result",
          "data": {
            "application/vnd.google.colaboratory.intrinsic+json": {
              "type": "string"
            },
            "text/plain": [
              "'9'"
            ]
          },
          "metadata": {},
          "execution_count": 19
        }
      ]
    },
    {
      "cell_type": "code",
      "source": [
        "name = input(\"Enter you name: \")\n",
        "name"
      ],
      "metadata": {
        "colab": {
          "base_uri": "https://localhost:8080/",
          "height": 54
        },
        "id": "cTYotbl_vEQj",
        "outputId": "75dfa9d7-3a60-4921-d448-fa07b9fbb04c"
      },
      "execution_count": 20,
      "outputs": [
        {
          "name": "stdout",
          "output_type": "stream",
          "text": [
            "Enter you name: Joe\n"
          ]
        },
        {
          "output_type": "execute_result",
          "data": {
            "application/vnd.google.colaboratory.intrinsic+json": {
              "type": "string"
            },
            "text/plain": [
              "'Joe'"
            ]
          },
          "metadata": {},
          "execution_count": 20
        }
      ]
    },
    {
      "cell_type": "code",
      "source": [
        "f_name = input(\"Enter you First Name: \")\n",
        "s_name = input(\"Enter you Surname: \")\n",
        "print(\"{} {} has entered the game!\".format(f_name,s_name))"
      ],
      "metadata": {
        "colab": {
          "base_uri": "https://localhost:8080/"
        },
        "id": "s25rHgRpvgx6",
        "outputId": "9041b6c7-2aa7-4246-ef2f-7a32df858897"
      },
      "execution_count": 22,
      "outputs": [
        {
          "output_type": "stream",
          "name": "stdout",
          "text": [
            "Enter you First Name: John\n",
            "Enter you Surname: Doe\n",
            "John Doe has entered the game!\n"
          ]
        }
      ]
    },
    {
      "cell_type": "markdown",
      "source": [
        "### Try out for yourself!\n",
        "Try to create a program that will collect your basic information such as:\n",
        "* First Name\n",
        "* Last Name\n",
        "* Birthday\n",
        "\n",
        "Then display a text showing a personalized message for the user. For example:\n",
        "\n",
        "`Hi John Doe! Your Birthday is on 05/06/2000.`"
      ],
      "metadata": {
        "id": "AObG0n9Dv8wr"
      }
    },
    {
      "cell_type": "code",
      "source": [
        "## YOUR CODE HERE"
      ],
      "metadata": {
        "id": "XAdhbk_zwYXi"
      },
      "execution_count": null,
      "outputs": []
    },
    {
      "cell_type": "markdown",
      "metadata": {
        "id": "VBqoeYOwyHx1"
      },
      "source": [
        "# Summary"
      ]
    },
    {
      "cell_type": "markdown",
      "metadata": {
        "id": "bJhvUowwyJF3"
      },
      "source": [
        "# Additional Readings"
      ]
    },
    {
      "cell_type": "markdown",
      "source": [
        "https://queirozf.com/entries/python-number-formatting-examples\n"
      ],
      "metadata": {
        "id": "LlaziA0QYv9y"
      }
    }
  ]
}